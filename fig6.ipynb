{
 "cells": [
  {
   "cell_type": "code",
   "execution_count": 2,
   "metadata": {},
   "outputs": [],
   "source": [
    "# import matplotlib\n",
    "# matplotlib.use('Agg')\n",
    "\n",
    "from matplotlib.pyplot import *\n",
    "import matplotlib.pyplot as plt\n",
    "\n",
    "import numpy as np\n",
    "import os, glob\n",
    "import datetime\n",
    "from netCDF4 import Dataset\n",
    "from collections import namedtuple\n",
    "from data import anomaly,global_average\n",
    "from scipy import stats"
   ]
  },
  {
   "cell_type": "code",
   "execution_count": 3,
   "metadata": {},
   "outputs": [],
   "source": [
    "def colorplot(ax):\n",
    "    \n",
    "    almost_black = '#262626' # tweek from Thorsten\n",
    "    \n",
    "    for spx in ['bottom','left']:\n",
    "            ax.spines[spx].set_visible(False)\n",
    "\n",
    "    # Only show ticks on the left and bottom spines\n",
    "    ax.yaxis.set_ticks_position('right')\n",
    "    ax.xaxis.set_ticks_position('top')\n",
    "    \n",
    "    # set axis positions\n",
    "    ax.yaxis.set_label_position('right') \n",
    "    ax.xaxis.set_label_position('top') \n",
    "    \n",
    "    for spx in ['top','right']:\n",
    "        ax.spines[spx].set_linewidth(0.5)\n",
    "        ax.spines[spx].set_color(almost_black)\n",
    "    \n",
    "    for ticks in ax.xaxis.get_ticklines() + ax.yaxis.get_ticklines():\n",
    "        ticks.set_color(almost_black)"
   ]
  },
  {
   "cell_type": "markdown",
   "metadata": {},
   "source": [
    "Calculation using annual average values"
   ]
  },
  {
   "cell_type": "code",
   "execution_count": 4,
   "metadata": {},
   "outputs": [
    {
     "name": "stdout",
     "output_type": "stream",
     "text": [
      "ACCESS1-0 ACCESS1-3 BCC-CSM1-1 BCC-CSM1-1-M CCSM4 CNRM-CM5 CNRM-CM5-2 CanESM2 FGOALS-g2 FGOALS-s2 GFDL-CM3 GFDL-ESM2G GFDL-ESM2M GISS-E2-H GISS-E2-R HadGEM2-ES INMCM4 IPSL-CM5A-LR IPSL-CM5A-MR IPSL-CM5B-LR MIROC-ESM MIROC5 MPI-ESM-LR MPI-ESM-MR MPI-ESM-P MRI-CGCM3 NorESM1-M \n"
     ]
    }
   ],
   "source": [
    "modelRun = namedtuple('pfile', ('t', 'ts','t_trop','ts_trop','flux','lwclr','swclr','lwcre','swcre','lw','sw','time'))\n",
    "\n",
    "# get names of models\n",
    "fn=glob.glob('cmip5/*.{}.nc'.format('piControl'))\n",
    "models=[ii.split('/')[1] for ii in fn]\n",
    "models=[ii.split('.')[0] for ii in models]\n",
    "models.sort()\n",
    "models.remove(models[7])\n",
    "\n",
    "feedbacks={}\n",
    "for mn in models:\n",
    "\t## read nc file\n",
    "\twith Dataset('cmip5/{0}.{1}.nc'.format(mn,'abrupt4xCO2')) as fni:\n",
    "\t\tovar=[]\n",
    "\t\tfor ii in ['flux','ta','tas','t_trop','tas_trop','rlutcs','rsutcs','rlut','rsut','rsdt']:\n",
    "\t\t\ttry:\n",
    "\t\t\t\tovar.append(fni[ii][:].squeeze())\n",
    "\t\t\t\tovar[-1]=ovar[-1][:len(ovar[-1])//12*12]\n",
    "\t\t\t\tovar[-1]=ovar[-1].reshape(len(ovar[-1])//12,12).mean(axis=1) # annual average\n",
    "\t\t\texcept IndexError:\n",
    "\t\t\t\tovar.append(np.array([0]))\n",
    "\t\t\t# ovar[-1]=ovar[-1].reshape(len(ovar[-1])/12,12).mean(axis=1) # annual average\n",
    "\t\t\t# ovar[-1]=ovar[-1][:80]\n",
    "    \n",
    "\tfeedbacks[mn]=modelRun(flux=ovar[0],t=ovar[1],ts=ovar[2],t_trop=ovar[3],ts_trop=ovar[4],lwclr=-ovar[5],\\\n",
    "\t\tswclr=ovar[9]-ovar[6],lwcre=-(ovar[7]-ovar[5]),swcre=ovar[9]-ovar[8]-(ovar[9]-ovar[6]),\\\n",
    "\t\tsw=ovar[9]-ovar[8],lw=-ovar[7],time=np.arange(len(ovar[0])))\n",
    "\n",
    "\tprint('{} '.format(mn),end=\"\")\n",
    "\tsys.stdout.flush()\n",
    "\n",
    "print()"
   ]
  },
  {
   "cell_type": "code",
   "execution_count": 5,
   "metadata": {},
   "outputs": [],
   "source": [
    "syear=10\n",
    "\n",
    "# for fluxvar in 'lwclr,swclr,lwcre,swcre,lw,sw,flux'.split(','):\n",
    "modelOutput={}\n",
    "for fluxvar in ['flux']:\n",
    "\tmodelOutput[fluxvar]={}\n",
    "\tfor mn in models:\n",
    "\t\t## analyze the run\n",
    "\t\tmod1=feedbacks[mn] \n",
    "\t\tabrupt=[];exec('flux=mod1.{}'.format(fluxvar))\n",
    "\t\tfor tg in [feedbacks[mn].ts,feedbacks[mn].t_trop]:\n",
    "\t\t\t# flux=mod1.lwclr+mod1.swclr+mod1.swcre+mod1.lwcre\n",
    "\t\t\t\n",
    "\t\t\ta1=[stats.linregress(anomaly(tg),anomaly(flux)).slope]\n",
    "\t\t\ta1.append(stats.linregress(anomaly(tg[syear:(syear+20)]),anomaly(flux[syear:(syear+20)])).slope)\n",
    "\t\t\ta1.append(stats.linregress(anomaly(tg[(syear+20):]),anomaly(flux[(syear+20):])).slope)\n",
    "\t\t\tabrupt.append(a1)\n",
    "\t\tmodelOutput[fluxvar][mn]=abrupt"
   ]
  },
  {
   "cell_type": "code",
   "execution_count": 18,
   "metadata": {},
   "outputs": [
    {
     "name": "stdout",
     "output_type": "stream",
     "text": [
      "flux  0.50  0.16  0.71  0.34\n"
     ]
    },
    {
     "data": {
      "image/png": "[encoded data removed]",
      "text/plain": [
       "<matplotlib.figure.Figure at 0x7fd7500c98d0>"
      ]
     },
     "metadata": {},
     "output_type": "display_data"
    }
   ],
   "source": [
    "import matplotlib as mpl\n",
    "\n",
    "mpl.rcParams['xtick.labelsize'] = 14\n",
    "mpl.rcParams['ytick.labelsize'] = 14\n",
    "\n",
    "# plot of curvature\n",
    "# for fluxvar in 'lwclr,swclr,lwcre,swcre,flux'.split(','):\n",
    "fluxvar='flux'\n",
    "figure(figsize=(7,5))\n",
    "plt.subplots_adjust(right=0.85,top=0.85)\n",
    "values4=np.array([modelOutput[fluxvar][ii][0][1] for ii in models])\n",
    "values5=np.array([modelOutput[fluxvar][ii][0][2] for ii in models])\n",
    "plot(values5,values4,'o',color='0.7',label='$\\lambda$',markeredgecolor='k')\n",
    "values6=np.array([modelOutput[fluxvar][ii][1][1] for ii in models])\n",
    "values7=np.array([modelOutput[fluxvar][ii][1][2] for ii in models])\n",
    "plot(values7,values6,'k+',markersize=8,mew=2,label='$\\Theta$')\n",
    "plot(np.linspace(-3,3),np.linspace(-3,3),'k',ls='dotted')\n",
    "avgval=np.average(values4+values5+values6+values7)\n",
    "# \txlim(avgval-0.8,avgval+0.8);ylim(avgval-1.,avgval+1.)\n",
    "xlim(-1.7,0);ylim(-3,0)\n",
    "legend(loc=2,fontsize=14)\n",
    "# \tgrid()\n",
    "xlabel('$\\lambda$ or $\\Theta$ (yrs {}-150) ($W/m^2/K$)'.format(syear+20),fontsize=16)\n",
    "ylabel('$\\lambda$ or $\\Theta$ (yrs {}-{}) ($W/m^2/K$)'.format(syear,syear+20),fontsize=16)\n",
    "print('{} {:5.2f} {:5.2f} {:5.2f} {:5.2f}'.format(fluxvar,np.average(np.array(values5)-np.array(values4)),\\\n",
    "    np.average(np.array(values7)-np.array(values6)),np.average((np.array(values5)-np.array(values4))**2)**0.5,\\\n",
    "    np.average((np.array(values7)-np.array(values6))**2)**0.5))\n",
    "colorplot(gca())\n",
    "# savefig('fig6.eps')\n",
    "# savefig('fig6')"
   ]
  },
  {
   "cell_type": "markdown",
   "metadata": {},
   "source": [
    "calculation using monthly average values"
   ]
  },
  {
   "cell_type": "code",
   "execution_count": 6,
   "metadata": {},
   "outputs": [
    {
     "name": "stdout",
     "output_type": "stream",
     "text": [
      "ACCESS1-0 ACCESS1-3 BCC-CSM1-1 BCC-CSM1-1-M CCSM4 CNRM-CM5 CNRM-CM5-2 CanESM2 FGOALS-g2 FGOALS-s2 GFDL-CM3 GFDL-ESM2G GFDL-ESM2M GISS-E2-H GISS-E2-R HadGEM2-ES INMCM4 IPSL-CM5A-LR IPSL-CM5A-MR IPSL-CM5B-LR MIROC-ESM MIROC5 MPI-ESM-LR MPI-ESM-MR MPI-ESM-P MRI-CGCM3 NorESM1-M \n"
     ]
    }
   ],
   "source": [
    "modelRun = namedtuple('pfile', ('t', 'ts','t_trop','ts_trop','flux','lwclr','swclr','lwcre','swcre','lw','sw','time'))\n",
    "\n",
    "# get names of models\n",
    "fn=glob.glob('cmip5/*.{}.nc'.format('piControl'))\n",
    "models=[ii.split('/')[1] for ii in fn]\n",
    "models=[ii.split('.')[0] for ii in models]\n",
    "models.sort()\n",
    "models.remove(models[7])\n",
    "\n",
    "feedbacks={}\n",
    "for mn in models:\n",
    "\t## read nc file\n",
    "\twith Dataset('cmip5/{0}.{1}.nc'.format(mn,'abrupt4xCO2')) as fni:\n",
    "\t\tovar=[]\n",
    "\t\tfor ii in ['flux','ta','tas','t_trop','tas_trop','rlutcs','rsutcs','rlut','rsut','rsdt']:\n",
    "\t\t\ttry:\n",
    "\t\t\t\tovar.append(fni[ii][:].squeeze())\n",
    "\t\t\t\tovar[-1]=ovar[-1][:len(ovar[-1])//12*12]\n",
    "\t\t\t\t# ovar[-1]=ovar[-1].reshape(len(ovar[-1])/12,12).mean(axis=1) # annual average\n",
    "\t\t\texcept IndexError:\n",
    "\t\t\t\tovar.append(np.array([0]))\n",
    "\t\t\t# ovar[-1]=ovar[-1].reshape(len(ovar[-1])/12,12).mean(axis=1) # annual average\n",
    "\t\t\t# ovar[-1]=ovar[-1][:80]\n",
    "    \n",
    "\tfeedbacks[mn]=modelRun(flux=ovar[0],t=0,ts=ovar[2],t_trop=ovar[3],ts_trop=0,lwclr=-ovar[5],\\\n",
    "\t\tswclr=ovar[9]-ovar[6],lwcre=-(ovar[7]-ovar[5]),swcre=ovar[9]-ovar[8]-(ovar[9]-ovar[6]),\\\n",
    "\t\tsw=ovar[9]-ovar[8],lw=-ovar[7],time=np.arange(len(ovar[0])))\n",
    "\n",
    "\tprint('{} '.format(mn),end=\"\")\n",
    "\tsys.stdout.flush()\n",
    "\n",
    "print()"
   ]
  },
  {
   "cell_type": "code",
   "execution_count": 7,
   "metadata": {},
   "outputs": [],
   "source": [
    "syear=10\n",
    "\n",
    "# for fluxvar in 'lwclr,swclr,lwcre,swcre,lw,sw,flux'.split(','):\n",
    "modelOutput={}\n",
    "for fluxvar in ['flux']:\n",
    "\tmodelOutput[fluxvar]={}\n",
    "\tfor mn in models:\n",
    "\t\t## analyze the run\n",
    "\t\tmod1=feedbacks[mn] \n",
    "\t\tabrupt=[];exec('flux=mod1.{}'.format(fluxvar))\n",
    "\t\tfor tg in [feedbacks[mn].ts,feedbacks[mn].t_trop]:\n",
    "\t\t\t# flux=mod1.lwclr+mod1.swclr+mod1.swcre+mod1.lwcre\n",
    "\t\t\t\n",
    "\t\t\ta1=[stats.linregress(anomaly(tg),anomaly(flux)).slope]\n",
    "\t\t\ta1.append(stats.linregress(anomaly(tg[syear*12:(syear+20)*12]),anomaly(flux[syear*12:(syear+20)*12])).slope)\n",
    "\t\t\ta1.append(stats.linregress(anomaly(tg[(syear+20)*12:]),anomaly(flux[(syear+20)*12:])).slope)\n",
    "\t\t\tabrupt.append(a1)\n",
    "\t\tmodelOutput[fluxvar][mn]=abrupt"
   ]
  },
  {
   "cell_type": "code",
   "execution_count": 9,
   "metadata": {},
   "outputs": [
    {
     "name": "stdout",
     "output_type": "stream",
     "text": [
      "flux  0.37  0.10  0.49  0.22\n"
     ]
    },
    {
     "data": {
      "image/png": "[encoded data removed]",
      "text/plain": [
       "<matplotlib.figure.Figure at 0x7fce93598198>"
      ]
     },
     "metadata": {},
     "output_type": "display_data"
    }
   ],
   "source": [
    "# plot of curvature\n",
    "# for fluxvar in 'lwclr,swclr,lwcre,swcre,flux'.split(','):\n",
    "fluxvar='flux'\n",
    "figure()\n",
    "plt.subplots_adjust(right=0.85,top=0.85)\n",
    "values4=np.array([modelOutput[fluxvar][ii][0][1] for ii in models])\n",
    "values5=np.array([modelOutput[fluxvar][ii][0][2] for ii in models])\n",
    "plot(values5,values4,'o',color='k',label='$\\lambda$')\n",
    "values6=np.array([modelOutput[fluxvar][ii][1][1] for ii in models])\n",
    "values7=np.array([modelOutput[fluxvar][ii][1][2] for ii in models])\n",
    "plot(values7,values6,'^',color='0.7',markersize=8,label='$\\Theta$')\n",
    "plot(np.linspace(-3,3),np.linspace(-3,3),'k',ls='dotted')\n",
    "avgval=np.average(values4+values5+values6+values7)\n",
    "# \txlim(avgval-0.8,avgval+0.8);ylim(avgval-1.,avgval+1.)\n",
    "xlim(-1.7,0);ylim(-2.2,0)\n",
    "legend(loc=2,fontsize=14)\n",
    "# \tgrid()\n",
    "xlabel('years {}-150'.format(syear+20),fontsize=14);ylabel('years {}-{}'.format(syear,syear+20),fontsize=14)\n",
    "print('{} {:5.2f} {:5.2f} {:5.2f} {:5.2f}'.format(fluxvar,np.average(np.array(values5)-np.array(values4)),\\\n",
    "    np.average(np.array(values7)-np.array(values6)),np.average((np.array(values5)-np.array(values4))**2)**0.5,\\\n",
    "    np.average((np.array(values7)-np.array(values6))**2)**0.5))\n",
    "colorplot(gca())\n",
    "# savefig('fig4.eps')"
   ]
  },
  {
   "cell_type": "markdown",
   "metadata": {},
   "source": [
    "Using global average $T_A$ shows similar curvature to global avg. $T_S$"
   ]
  },
  {
   "cell_type": "code",
   "execution_count": 6,
   "metadata": {
    "collapsed": true
   },
   "outputs": [],
   "source": [
    "syear=10\n",
    "\n",
    "# for fluxvar in 'lwclr,swclr,lwcre,swcre,lw,sw,flux'.split(','):\n",
    "modelOutput={}\n",
    "for fluxvar in ['flux']:\n",
    "\tmodelOutput[fluxvar]={}\n",
    "\tfor mn in models:\n",
    "\t\t## analyze the run\n",
    "\t\tmod1=feedbacks[mn] \n",
    "\t\tabrupt=[];exec('flux=mod1.{}'.format(fluxvar))\n",
    "\t\tfor tg in [feedbacks[mn].ts_trop,feedbacks[mn].t]:\n",
    "\t\t\t# flux=mod1.lwclr+mod1.swclr+mod1.swcre+mod1.lwcre\n",
    "\t\t\t\n",
    "\t\t\ta1=[stats.linregress(anomaly(tg),anomaly(flux)).slope]\n",
    "\t\t\ta1.append(stats.linregress(anomaly(tg[syear*12:(syear+20)*12]),anomaly(flux[syear*12:(syear+20)*12])).slope)\n",
    "\t\t\ta1.append(stats.linregress(anomaly(tg[(syear+20)*12:]),anomaly(flux[(syear+20)*12:])).slope)\n",
    "\t\t\tabrupt.append(a1)\n",
    "\n",
    "\t\tmodelOutput[fluxvar][mn]=abrupt"
   ]
  },
  {
   "cell_type": "code",
   "execution_count": 7,
   "metadata": {},
   "outputs": [
    {
     "name": "stdout",
     "output_type": "stream",
     "text": [
      "flux  0.14  0.26  0.24  0.43\n"
     ]
    },
    {
     "data": {
      "image/png": "[encoded data removed]",
      "text/plain": [
       "<matplotlib.figure.Figure at 0x7f2208ba2550>"
      ]
     },
     "metadata": {},
     "output_type": "display_data"
    }
   ],
   "source": [
    "# plot of curvature\n",
    "# for fluxvar in 'lwclr,swclr,lwcre,swcre,flux'.split(','):\n",
    "fluxvar='flux'\n",
    "figure()\n",
    "plt.subplots_adjust(right=0.85,top=0.85)\n",
    "values4=np.array([modelOutput[fluxvar][ii][0][1] for ii in models])\n",
    "values5=np.array([modelOutput[fluxvar][ii][0][2] for ii in models])\n",
    "plot(values5,values4,'o',color='0.7',label='$\\lambda$')\n",
    "values6=np.array([modelOutput[fluxvar][ii][1][1] for ii in models])\n",
    "values7=np.array([modelOutput[fluxvar][ii][1][2] for ii in models])\n",
    "plot(values7,values6,'k+',markersize=8,mew=2,label='$\\Theta$')\n",
    "plot(np.linspace(-3,3),np.linspace(-3,3),'k',ls='dotted')\n",
    "avgval=np.average(values4+values5+values6+values7)\n",
    "# \txlim(avgval-0.8,avgval+0.8);ylim(avgval-1.,avgval+1.)\n",
    "xlim(-1.7,0);ylim(-2.2,0)\n",
    "legend(loc=2,fontsize=14)\n",
    "# \tgrid()\n",
    "xlabel('years {}-150'.format(syear+20),fontsize=14);ylabel('years {}-{}'.format(syear,syear+20),fontsize=14)\n",
    "print '{} {:5.2f} {:5.2f} {:5.2f} {:5.2f}'.format(fluxvar,np.average(np.array(values5)-np.array(values4)),\\\n",
    "    np.average(np.array(values7)-np.array(values6)),np.average((np.array(values5)-np.array(values4))**2)**0.5,\\\n",
    "    np.average((np.array(values7)-np.array(values6))**2)**0.5)\n",
    "colorplot(gca())\n",
    "# savefig('figS6.eps')"
   ]
  },
  {
   "cell_type": "code",
   "execution_count": null,
   "metadata": {
    "collapsed": true
   },
   "outputs": [],
   "source": []
  }
 ],
 "metadata": {
  "kernelspec": {
   "display_name": "Python 3",
   "language": "python",
   "name": "python3"
  },
  "language_info": {
   "codemirror_mode": {
    "name": "ipython",
    "version": 3
   },
   "file_extension": ".py",
   "mimetype": "text/x-python",
   "name": "python",
   "nbconvert_exporter": "python",
   "pygments_lexer": "ipython3",
   "version": "3.6.4"
  }
 },
 "nbformat": 4,
 "nbformat_minor": 1
}
