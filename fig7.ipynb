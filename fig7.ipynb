{
 "cells": [
  {
   "cell_type": "markdown",
   "metadata": {},
   "source": [
    "# ECS calculation"
   ]
  },
  {
   "cell_type": "code",
   "execution_count": 1,
   "metadata": {},
   "outputs": [],
   "source": [
    "# load packages\n",
    "from matplotlib.pyplot import *\n",
    "import matplotlib.pyplot as plt\n",
    "import numpy as np\n",
    "from netCDF4 import Dataset\n",
    "from scipy import stats\n",
    "from data import anomaly\n",
    "import ols,glob\n",
    "from collections import namedtuple"
   ]
  },
  {
   "cell_type": "code",
   "execution_count": 2,
   "metadata": {},
   "outputs": [],
   "source": [
    "printf=False # set to true to write out plot files"
   ]
  },
  {
   "cell_type": "code",
   "execution_count": 3,
   "metadata": {},
   "outputs": [],
   "source": [
    "## make plots pretty\n",
    "def colorplot(ax):\n",
    "    \n",
    "    almost_black = '#262626' # tweek from Thorsten\n",
    "    \n",
    "    for spx in ['top','right']:\n",
    "            ax.spines[spx].set_visible(False)\n",
    "\n",
    "    # Only show ticks on the left and bottom spines\n",
    "    ax.yaxis.set_ticks_position('left')\n",
    "    ax.xaxis.set_ticks_position('bottom')\n",
    "        \n",
    "    for spx in ['bottom','left']:\n",
    "        ax.spines[spx].set_linewidth(0.5)\n",
    "        ax.spines[spx].set_color(almost_black)\n",
    "    \n",
    "    for ticks in ax.xaxis.get_ticklines() + ax.yaxis.get_ticklines():\n",
    "        ticks.set_color(almost_black)\n",
    "\n",
    "def colorplotRight(ax):\n",
    "    \n",
    "    almost_black = '#262626' # tweek from Thorsten\n",
    "    \n",
    "    for spx in ['top','left']:\n",
    "            ax.spines[spx].set_visible(False)\n",
    "\n",
    "    # Only show ticks on the left and bottom spines\n",
    "    ax.yaxis.set_ticks_position('right')\n",
    "    ax.xaxis.set_ticks_position('bottom')\n",
    "    \n",
    "    # set axis positions\n",
    "#     ax.yaxis.set_label_position(pspines[0]) \n",
    "#     ax.xaxis.set_label_position(pspines[1]) \n",
    "    \n",
    "    for spx in ['bottom','right']:\n",
    "        ax.spines[spx].set_linewidth(0.5)\n",
    "        ax.spines[spx].set_color(almost_black)\n",
    "    \n",
    "    for ticks in ax.xaxis.get_ticklines() + ax.yaxis.get_ticklines():\n",
    "        ticks.set_color(almost_black)\n",
    "    \n",
    "    ax.yaxis.set_label_position('right')"
   ]
  },
  {
   "cell_type": "code",
   "execution_count": 4,
   "metadata": {},
   "outputs": [
    {
     "name": "stdout",
     "output_type": "stream",
     "text": [
      "number of runs in Monte Carlo calculations: 25,000\n"
     ]
    }
   ],
   "source": [
    "## monte carlo calculations\n",
    "numRuns=25000 # number of runs of the monte carlo calculation\n",
    "print('number of runs in Monte Carlo calculations: {:,}'.format(numRuns))"
   ]
  },
  {
   "cell_type": "code",
   "execution_count": 5,
   "metadata": {},
   "outputs": [],
   "source": [
    "def monteCarlo1(x1,y1,runs=10000,autocorr=False):\n",
    "    \"\"\"x1 and y1 are the input arrays, runs is the number of times to do the calculation,\n",
    "    returns list of slopes\n",
    "    if autocorr is True, then the number of samples is reduced; it is set equal to the \n",
    "    effective number of degrees of freedom, per Santer et al. 2000\n",
    "    \"\"\"\n",
    "\n",
    "    # calculate neff; effective number of independent samples\n",
    "    # follows Santer et al. 2000\n",
    "    lag1cov = lambda a1: (np.average(a1[1:]*a1[:-1])/np.std(a1)**2)\n",
    "    sl0=stats.linregress(x1,y1)\n",
    "    yhat=y1-(sl0[0]*x1+sl0[1])\n",
    "    lag1=lag1cov(yhat)\n",
    "    if not autocorr: lag1=0\n",
    "    neff=len(x1)*(1-lag1)/(1+lag1)\n",
    "\n",
    "    slope=[];intercept=[];newy=[]\n",
    "    for ii in range(runs):\n",
    "        \n",
    "        ## regress p1 vs. r2\n",
    "        rind=np.random.randint(0,high=len(x1),size=int(neff))\n",
    "        fit1=stats.linregress(x1[rind],y1[rind])\n",
    "        slope.append(fit1[0]);intercept.append(fit1[1])\n",
    "    \n",
    "    return np.array(slope),np.array(intercept)"
   ]
  },
  {
   "cell_type": "markdown",
   "metadata": {},
   "source": [
    "## read in CMIP5 data"
   ]
  },
  {
   "cell_type": "code",
   "execution_count": 6,
   "metadata": {},
   "outputs": [
    {
     "name": "stdout",
     "output_type": "stream",
     "text": [
      "ACCESS1-0 ACCESS1-3 BCC-CSM1-1 BCC-CSM1-1-M CCSM4 CNRM-CM5 CNRM-CM5-2 CanESM2 FGOALS-g2 FGOALS-s2 GFDL-CM3 GFDL-ESM2G GFDL-ESM2M GISS-E2-H GISS-E2-R INMCM4 IPSL-CM5A-LR IPSL-CM5A-MR IPSL-CM5B-LR MIROC5 MPI-ESM-LR MPI-ESM-MR MPI-ESM-P MRI-CGCM3 NorESM1-M \n"
     ]
    }
   ],
   "source": [
    "modelRun = namedtuple('modelRun', ('ts','t_trop','flux','lwclr','swclr','lwcre','swcre',\\\n",
    "    'lw','sw','clr','cre','time'))\n",
    "modelsx = namedtuple('modelsx', ('abrupt4xCO2','piControl'))\n",
    "\n",
    "# get names of models\n",
    "fn=glob.glob('cmip5/*.{}.nc'.format('piControl'))\n",
    "models=[ii.split('/')[1] for ii in fn]\n",
    "models=[ii.split('.')[0] for ii in models]\n",
    "models.sort()\n",
    "\n",
    "# these models have screwy ratios of lambda(p)/lambda(a)\n",
    "models.remove('HadGEM2-ES') \n",
    "models.remove('MIROC-ESM')\n",
    "models.remove('CSIRO-Mk3-6-0')\n",
    "\n",
    "modelOutput={}\n",
    "for mn in models:\n",
    "    f1=[]\n",
    "    for modrun in ['abrupt4xCO2','piControl']:\n",
    "        ## read nc file\n",
    "        with Dataset('cmip5/{0}.{1}.nc'.format(mn,modrun)) as fni:\n",
    "            ovar=[]\n",
    "            for ii in ['flux','ta','tas','t_trop','tas_trop','rlutcs','rsutcs','rlut','rsut','rsdt']:\n",
    "                try:\n",
    "                    ovar.append(fni[ii][:].squeeze())\n",
    "                except IndexError:\n",
    "                    ovar.append(0)\n",
    "            \n",
    "        feedbacks=modelRun(flux=ovar[0],ts=ovar[2],t_trop=ovar[3],lwclr=-ovar[5],\\\n",
    "            swclr=ovar[9]-ovar[6],lwcre=-(ovar[7]-ovar[5]),swcre=ovar[9]-ovar[8]-(ovar[9]-ovar[6]),\\\n",
    "            sw=ovar[9]-ovar[8],lw=-ovar[7],time=np.arange(len(ovar[0])),\\\n",
    "            clr=-ovar[5]+ovar[9]-ovar[6],cre=-(ovar[7]-ovar[5])+ovar[9]-ovar[8]-(ovar[9]-ovar[6]))\n",
    "        \n",
    "        f1.append(feedbacks)\n",
    "        \n",
    "    print('{} '.format(mn),end=\"\")\n",
    "    sys.stdout.flush()\n",
    "    modelOutput[mn]=modelsx(abrupt4xCO2=f1[0],piControl=f1[1])\n",
    "\n",
    "print \n",
    "print()"
   ]
  },
  {
   "cell_type": "markdown",
   "metadata": {},
   "source": [
    "#### calculate feedbacks in CMIP5 models"
   ]
  },
  {
   "cell_type": "code",
   "execution_count": 7,
   "metadata": {},
   "outputs": [
    {
     "name": "stdout",
     "output_type": "stream",
     "text": [
      "ACCESS1-0 ACCESS1-3 BCC-CSM1-1 BCC-CSM1-1-M CCSM4 CNRM-CM5 CNRM-CM5-2 CanESM2 FGOALS-g2 FGOALS-s2 GFDL-CM3 GFDL-ESM2G GFDL-ESM2M GISS-E2-H GISS-E2-R INMCM4 IPSL-CM5A-LR IPSL-CM5A-MR IPSL-CM5B-LR MIROC5 MPI-ESM-LR MPI-ESM-MR MPI-ESM-P MRI-CGCM3 NorESM1-M "
     ]
    }
   ],
   "source": [
    "### values are calculated from all 150 years of the run\n",
    "### feedbacks is dictionary containing the values for dR/dT from the models\n",
    "### forcingts is the forcing from regression vs. Ts\n",
    "### forcingta is the forcing from regression vs. Ta\n",
    "\n",
    "feedbacks={};feedbacks_20_150={}\n",
    "forcingts={};forcingta={};forcingts_20_150={}\n",
    "\n",
    "# loop through models\n",
    "for mn in models:\n",
    "    # loop over run types\n",
    "    feedbacks[mn]={};feedbacks_20_150[mn]={}\n",
    "    for runType in ['abrupt4xCO2','piControl']:\n",
    "        # loop through radiation variables\n",
    "        feedbacks[mn][runType]={}\n",
    "        feedbacks_20_150[mn][runType]={}\n",
    "\n",
    "        varx='flux' \n",
    "        \n",
    "        # loop through temperature variables\n",
    "        feedbacks[mn][runType][varx]={}\n",
    "        feedbacks_20_150[mn][runType][varx]={}\n",
    "        for tx in ['ts','t_trop']:\n",
    "            # calculate feedback for model, runtype, flux variable, surface T variable\n",
    "\n",
    "            exec('temp=np.copy(modelOutput[mn].{}.{})'.format(runType,tx))\n",
    "            exec('flux=np.copy(modelOutput[mn].{}.{})'.format(runType,varx))\n",
    "\n",
    "            if runType == 'abrupt4xCO2':\n",
    "\n",
    "                exec('control=modelOutput[mn].{}.{}'.format('piControl',tx))\n",
    "                temp -= np.average(control) # subtract average control temperature\n",
    "                temp=temp[:len(temp)//12*12];temp=temp.reshape(len(temp)//12,12).mean(axis=1)\n",
    "\n",
    "                control=modelOutput[mn].piControl.flux\n",
    "                flux -= np.average(control)\n",
    "                flux=flux[:len(flux)//12*12];flux=flux.reshape(len(flux)//12,12).mean(axis=1)\n",
    "\n",
    "                fb=ols.ols(flux[:150],temp[:150])\n",
    "                feedbacks[mn][runType][varx][tx]=fb.b[1]\n",
    "                \n",
    "                fb=ols.ols(flux[20:150],temp[20:150])\n",
    "                feedbacks_20_150[mn][runType][varx][tx]=fb.b[1]\n",
    "                \n",
    "                # calculate forcing as y-intercept of R vs. T regression\n",
    "                if tx == 'ts':\n",
    "                    \n",
    "                    fb=ols.ols(flux[:150],temp[:150])\n",
    "                    forcingts[mn]=fb.b[0]/2\n",
    "                    \n",
    "                    fb=ols.ols(flux[20:150],temp[20:150])\n",
    "                    forcingts_20_150[mn]=fb.b[0]/2\n",
    "\n",
    "                else:\n",
    "\n",
    "                    fb=ols.ols(flux[:150],temp[:150])\n",
    "                    forcingta[mn]=fb.b[0]/2\n",
    "                    \n",
    "            else:\n",
    "                # split time series into individual time series and create feedback for each one, then average \n",
    "                length=17*12\n",
    "                temp=temp[:len(temp)//length*length].reshape(len(temp)//length,length)\n",
    "                flux=flux[:len(flux)//length*length].reshape(len(flux)//length,length)\n",
    "                temp=anomaly(temp.T).T;flux=anomaly(flux.T).T\n",
    "\n",
    "                slope=[]\n",
    "                for t1,f1 in zip(temp,flux):\n",
    "                    slope.append(stats.linregress(t1,f1).slope)\n",
    "                feedbacks[mn][runType][varx][tx]=np.average(slope)\n",
    "                    \n",
    "    print('{} '.format(mn),end=\"\")\n",
    "    sys.stdout.flush()"
   ]
  },
  {
   "cell_type": "markdown",
   "metadata": {},
   "source": [
    "### calculate ECS"
   ]
  },
  {
   "cell_type": "code",
   "execution_count": 8,
   "metadata": {},
   "outputs": [
    {
     "name": "stdout",
     "output_type": "stream",
     "text": [
      "ACCESS1-0 ACCESS1-3 BCC-CSM1-1 BCC-CSM1-1-M CCSM4 CNRM-CM5 CNRM-CM5-2 CanESM2 FGOALS-g2 FGOALS-s2 GFDL-CM3 GFDL-ESM2G GFDL-ESM2M GISS-E2-H GISS-E2-R INMCM4 IPSL-CM5A-LR IPSL-CM5A-MR IPSL-CM5B-LR MIROC5 MPI-ESM-LR MPI-ESM-MR MPI-ESM-P MRI-CGCM3 NorESM1-M "
     ]
    }
   ],
   "source": [
    "ecs2={};forcing2={}\n",
    "runType = 'abrupt4xCO2';varx='flux';tx='ts'\n",
    "# loop through models\n",
    "for mn in models:\n",
    "    # loop over run types\n",
    "\n",
    "    temp=np.copy(modelOutput[mn].abrupt4xCO2.ts)\n",
    "    control=modelOutput[mn].piControl.ts\n",
    "    temp -= np.average(control) # subtract average control temperature\n",
    "    temp=temp[:len(temp)//12*12];temp=temp.reshape(len(temp)//12,12).mean(axis=1)\n",
    "\n",
    "    flux=np.copy(modelOutput[mn].abrupt4xCO2.flux)\n",
    "    control=modelOutput[mn].piControl.flux\n",
    "    flux -= np.average(control)\n",
    "#     print np.average(control)\n",
    "    flux=flux[:len(flux)//12*12];flux=flux.reshape(len(flux)//12,12).mean(axis=1)\n",
    "\n",
    "    fb=ols.ols(flux[:150],temp[:150]);fb.est_auto()\n",
    "    ecs2[mn]=-fb.b[0]/fb.b[1]/2\n",
    "    forcing2[mn]=fb.b[0]/2\n",
    "\n",
    "    print('{} '.format(mn),end=\"\")\n",
    "    sys.stdout.flush()"
   ]
  },
  {
   "cell_type": "markdown",
   "metadata": {
    "collapsed": true
   },
   "source": [
    "## load CERES data"
   ]
  },
  {
   "cell_type": "markdown",
   "metadata": {},
   "source": [
    "Do two different slope calculations: 1) regress detrended R and T and 2) use estimate of F to regress R-F and Ts"
   ]
  },
  {
   "cell_type": "code",
   "execution_count": 9,
   "metadata": {},
   "outputs": [
    {
     "name": "stderr",
     "output_type": "stream",
     "text": [
      "/usr/local/anaconda/lib/python3.6/site-packages/ipykernel_launcher.py:5: UserWarning: WARNING: valid_min not used since it\n",
      "cannot be safely cast to variable data type\n",
      "  \"\"\"\n",
      "/usr/local/anaconda/lib/python3.6/site-packages/ipykernel_launcher.py:5: UserWarning: WARNING: valid_max not used since it\n",
      "cannot be safely cast to variable data type\n",
      "  \"\"\"\n"
     ]
    }
   ],
   "source": [
    "## calculate slope of detrended data\n",
    "ovar=[]\n",
    "with Dataset('../energyBalance/ceres_era.nc') as fni:\n",
    "    for varx in ['gtoa_net_all_mon','t_trop','t2m']:\n",
    "        ovar.append(anomaly(fni[varx][:].squeeze()))\n",
    "\n",
    "        # detrend the data\n",
    "        fitx=ols.ols(ovar[-1],np.arange(len(ovar[-1])))\n",
    "        ovar[-1] = ovar[-1] - np.arange(len(ovar[-1]))*fitx.b[1]\n",
    "        ovar[-1]=anomaly(ovar[-1])\n",
    "\n",
    "CERESdetrendedFlux = ovar[0]\n",
    "CERESdetrendedTa = ovar[1]\n",
    "CERESdetrendedTs = ovar[2]\n",
    "timeCERES=np.arange(len(CERESdetrendedFlux))/12.+2000+2/12.+1/24."
   ]
  },
  {
   "cell_type": "markdown",
   "metadata": {},
   "source": [
    "### identify models that agree with CERES and those that don't"
   ]
  },
  {
   "cell_type": "markdown",
   "metadata": {},
   "source": [
    "First, vs. $\\Theta$"
   ]
  },
  {
   "cell_type": "code",
   "execution_count": 10,
   "metadata": {},
   "outputs": [],
   "source": [
    "numSortRuns=numRuns"
   ]
  },
  {
   "cell_type": "code",
   "execution_count": 11,
   "metadata": {},
   "outputs": [
    {
     "name": "stdout",
     "output_type": "stream",
     "text": [
      "there are 15 \"good\" models and 10 others\n"
     ]
    }
   ],
   "source": [
    "# find \"good\"/\"bad\" models that agree (and not) with CERES data\n",
    "# compare slope of detrended R vs. detrended Ta\n",
    "slope=monteCarlo1(CERESdetrendedTa,CERESdetrendedFlux,runs=numSortRuns,autocorr=True)[0]\n",
    "\n",
    "modellist = namedtuple('modellist', ('theta_detrended','lambda_detrended'))\n",
    "slope_list=modellist(theta_detrended=slope,lambda_detrended=0)\n",
    "\n",
    "low,high=np.percentile(slope,5),np.percentile(slope,95) # 5-95% uncertainty\n",
    "avgceres=np.average(slope)\n",
    "\n",
    "modname=[ii for ii in feedbacks.keys()]\n",
    "p=np.array([feedbacks[ii]['piControl']['flux']['t_trop'] for ii in modname])\n",
    "\n",
    "good=[];bad=[] # store names of good/bad models\n",
    "\n",
    "for mm,vv in zip(modname,p):\n",
    "    if (vv > low) & (vv <= high): \n",
    "        good.append(mm)\n",
    "    else:\n",
    "        bad.append(mm)\n",
    "\n",
    "print('there are {} \"good\" models and {} others'.format(len(good),len(bad)))"
   ]
  },
  {
   "cell_type": "markdown",
   "metadata": {},
   "source": [
    "Second, vs. $\\lambda$"
   ]
  },
  {
   "cell_type": "code",
   "execution_count": 12,
   "metadata": {},
   "outputs": [
    {
     "name": "stdout",
     "output_type": "stream",
     "text": [
      "there are 22 \"good\" models and 3 others\n"
     ]
    }
   ],
   "source": [
    "# find \"good\"/\"bad\" models that agree (and not) with CERES data\n",
    "# compare slope of detrended R vs. detrended Ts\n",
    "slope=monteCarlo1(CERESdetrendedTs,CERESdetrendedFlux,runs=numSortRuns,autocorr=True)[0]\n",
    "slope_list=modellist(theta_detrended=slope_list.theta_detrended,lambda_detrended=slope)\n",
    "\n",
    "low,high=np.percentile(slope,5),np.percentile(slope,95) # 5-95% uncertainty\n",
    "avgceres=np.average(slope)\n",
    "\n",
    "modname=[ii for ii in feedbacks.keys()]\n",
    "p=np.array([feedbacks[ii]['piControl']['flux']['ts'] for ii in modname])\n",
    "\n",
    "good3=[];bad3=[] # store names of good/bad models\n",
    "\n",
    "for mm,vv in zip(modname,p):\n",
    "    if (vv > low) & (vv <= high): \n",
    "        good3.append(mm)\n",
    "    else:\n",
    "        bad3.append(mm)\n",
    "\n",
    "print('there are {} \"good\" models and {} others'.format(len(good3),len(bad3)))"
   ]
  },
  {
   "cell_type": "code",
   "execution_count": 13,
   "metadata": {},
   "outputs": [],
   "source": [
    "### save names of good and bad model in named tuple\n",
    "good_list=modellist(theta_detrended=good,lambda_detrended=good3)\n",
    "bad_list=modellist(theta_detrended=bad,lambda_detrended=bad3)"
   ]
  },
  {
   "cell_type": "markdown",
   "metadata": {},
   "source": [
    "### print stats of $\\Theta$ and $\\lambda$ from CERES + ERAi data"
   ]
  },
  {
   "cell_type": "code",
   "execution_count": 14,
   "metadata": {},
   "outputs": [
    {
     "name": "stdout",
     "output_type": "stream",
     "text": [
      "slope +/- 5-95% CI: -1.09 +/- -1.37 - -0.81\n",
      "upper, lower error bars: 0.28, 0.28\n"
     ]
    }
   ],
   "source": [
    "# theta_detrended: calculate slope of detrended R vs. detrended Ta\n",
    "slope=slope_list.theta_detrended\n",
    "avgslope=np.median(slope);p5=np.percentile(slope,5);p95=np.percentile(slope,95)\n",
    "print('slope +/- 5-95% CI: {:.2f} +/- {:.2f} - {:.2f}'.format(avgslope,p5,p95))\n",
    "print('upper, lower error bars: {:.2f}, {:.2f}'.format(p95-avgslope,avgslope-p5))"
   ]
  },
  {
   "cell_type": "code",
   "execution_count": 15,
   "metadata": {},
   "outputs": [
    {
     "name": "stdout",
     "output_type": "stream",
     "text": [
      "slope +/- 5-95% CI: -0.80 +/- -1.45 - -0.14\n",
      "upper, lower error bars: 0.66, 0.65\n"
     ]
    }
   ],
   "source": [
    "# lambda_detrended: calculate slope of detrended R vs. detrended Ts\n",
    "slope=slope_list.lambda_detrended\n",
    "avgslope=np.median(slope);p5=np.percentile(slope,5);p95=np.percentile(slope,95)\n",
    "print('slope +/- 5-95% CI: {:.2f} +/- {:.2f} - {:.2f}'.format(avgslope,p5,p95))\n",
    "print('upper, lower error bars: {:.2f}, {:.2f}'.format(p95-avgslope,avgslope-p5))"
   ]
  },
  {
   "cell_type": "code",
   "execution_count": 17,
   "metadata": {},
   "outputs": [
    {
     "name": "stdout",
     "output_type": "stream",
     "text": [
      "average ECS of the good models: 2.90\n",
      "std of 0.48\n",
      "range of 2.04 to 3.86\n"
     ]
    },
    {
     "data": {
      "image/png": "[encoded data removed]",
      "text/plain": [
       "<matplotlib.figure.Figure at 0x7f9a0f800ac8>"
      ]
     },
     "metadata": {},
     "output_type": "display_data"
    }
   ],
   "source": [
    "# sort models by ECS\n",
    "mod2 = [k for k in sorted(ecs2, key=ecs2.get)]\n",
    "    \n",
    "fig, axes = plt.subplots(nrows=3, ncols=1,figsize=(8,8))\n",
    "plt.subplots_adjust(bottom=0.25,hspace=0)\n",
    "\n",
    "good=good_list.theta_detrended\n",
    "\n",
    "# theta comparison\n",
    "sca(axes[0])\n",
    "\n",
    "low,high=np.percentile(slope_list.theta_detrended,5),np.percentile(slope_list.theta_detrended,95) # 5-95% uncertainty\n",
    "avgceres=np.average(slope_list.theta_detrended)\n",
    "\n",
    "for ii,vv in enumerate(mod2):\n",
    "    plot([ii],feedbacks[vv]['piControl']['flux']['t_trop'],'k^',markersize=8)\n",
    "\n",
    "fill_between([-100,100],low,high,color='0.9')\n",
    "axhline(avgceres,color='k',ls='dashed')\n",
    "\n",
    "plot(100,0,'k^',label='good',markersize=8)\n",
    "plot(100,0,'k+',label='bad',markersize=10,mew=4,color='0.6')\n",
    "\n",
    "gca().set_xticks(range(len(mod2)));\n",
    "xlim(-0.5,len(mod2)-0.5)\n",
    "# legend(loc=4)\n",
    "grid()\n",
    "ylabel(r'$\\Theta$ ($W/m^2/K$)',fontsize=14)\n",
    "# ylabel(r'$\\Theta_{iv}$/$\\Theta_{forced}$',fontsize=22)\n",
    "gca().set_yticks([-1.5,-1,-0.5,0]);\n",
    "\n",
    "# ECS\n",
    "sca(axes[1])\n",
    "goodECS=[]\n",
    "for ii,vv in enumerate(mod2):\n",
    "    if vv in good:\n",
    "        plot([ii],ecs2[vv],'k^',markersize=8)\n",
    "        goodECS.append(ecs2[vv])\n",
    "    else:\n",
    "        plot([ii],ecs2[vv],'+',color='0.6',markersize=12,mew=4)\n",
    "\n",
    "ylim(1.8,4.5)\n",
    "gca().set_yticks([2,2.5,3,3.5,4,4.5]);\n",
    "        \n",
    "xlim(-0.5,len(mod2)-0.5)\n",
    "ylabel('ECS (K)',fontsize=16,labelpad=16)\n",
    "\n",
    "gca().set_xticks(range(len(mod2)));\n",
    "grid()\n",
    "\n",
    "plot(100,0,'k^',label='good',markersize=8)\n",
    "plot(100,0,'k+',label='bad',markersize=10,mew=4,color='0.6')\n",
    "legend(loc=4)\n",
    "\n",
    "# lambda comparison\n",
    "sca(axes[2])\n",
    "\n",
    "low,high=np.percentile(slope_list.lambda_detrended,5),np.percentile(slope_list.lambda_detrended,95) # 5-95% uncertainty\n",
    "avgceres=np.average(slope_list.lambda_detrended)\n",
    "\n",
    "for ii,vv in enumerate(mod2):\n",
    "    plot([ii],feedbacks[vv]['piControl']['flux']['ts'],'k^',markersize=8)\n",
    "\n",
    "fill_between([-100,100],low,high,color='0.9')\n",
    "axhline(avgceres,color='k',ls='dashed')\n",
    "xlim(-0.5,len(mod2)-0.5)\n",
    "ylim(-1.8,0.1)\n",
    "grid()\n",
    "\n",
    "plot(100,0,'k^',label='good',markersize=8)\n",
    "plot(100,0,'k+',label='bad',markersize=10,mew=4,color='0.6')\n",
    "ylabel(r'$\\lambda$ ($W/m^2/K$)',fontsize=14)\n",
    "gca().set_yticks([-1.5,-1,-0.5,0]);\n",
    "gca().set_xticks(range(len(mod2)));\n",
    "\n",
    "sca(axes[2])\n",
    "\n",
    "gca().set_xticks(range(len(mod2)));\n",
    "gca().set_xticklabels(mod2,rotation='90');\n",
    "\n",
    "for ii,ax in enumerate(axes):\n",
    "#     ax.axvline(14.5,color='k')\n",
    "    ax.text(0.05,[0.8,0.8,0.8][ii],'(a),(b),(c)'.split(',')[ii],fontsize=16,transform=ax.transAxes)\n",
    "\n",
    "# savefig('fig7.eps')\n",
    "# savefig('fig7')\n",
    "\n",
    "print('average ECS of the good models: {:.2f}'.format(np.average(goodECS)))\n",
    "print('std of {:.2f}'.format(np.std(goodECS)))\n",
    "print('range of {:.2f} to {:.2f}'.format(np.min(goodECS),np.max(goodECS)))"
   ]
  },
  {
   "cell_type": "markdown",
   "metadata": {},
   "source": [
    "## other stuff"
   ]
  },
  {
   "cell_type": "markdown",
   "metadata": {},
   "source": [
    "### look at CERES regression of annual average values"
   ]
  },
  {
   "cell_type": "code",
   "execution_count": 43,
   "metadata": {},
   "outputs": [
    {
     "data": {
      "text/plain": [
       "[<matplotlib.lines.Line2D at 0x7f547b8217b8>]"
      ]
     },
     "execution_count": 43,
     "metadata": {},
     "output_type": "execute_result"
    },
    {
     "data": {
      "image/png": "[encoded data removed]",
      "text/plain": [
       "<matplotlib.figure.Figure at 0x7f547b4538d0>"
      ]
     },
     "metadata": {},
     "output_type": "display_data"
    },
    {
     "data": {
      "image/png": "[encoded data removed]",
      "text/plain": [
       "<matplotlib.figure.Figure at 0x7f547adbb6d8>"
      ]
     },
     "metadata": {},
     "output_type": "display_data"
    }
   ],
   "source": [
    "import xarray as xr, pandas as pd\n",
    "import xradd\n",
    "\n",
    "ceres1=xr.DataArray(CERESdetrendedFlux,dims='time',coords={'time': pd.date_range('2000-03-01',freq='M',\n",
    "    periods=len(CERESdetrendedFlux))},name='flux')\n",
    "ceres2=xr.DataArray(CERESdetrendedTa,dims='time',coords={'time': pd.date_range('2000-03-01',freq='M',\n",
    "    periods=len(CERESdetrendedTa))},name='ta')\n",
    "ceres3=xr.DataArray(CERESdetrendedTs,dims='time',coords={'time': pd.date_range('2000-03-01',freq='M',\n",
    "    periods=len(CERESdetrendedTs))},name='ts')\n",
    "ceres=xradd.annual(xr.merge([ceres1,ceres2,ceres3]))\n",
    "\n",
    "figure()\n",
    "plot(ceres.ts,ceres.flux,'o')\n",
    "figure()\n",
    "plot(ceres.ta,ceres.flux,'o')"
   ]
  },
  {
   "cell_type": "code",
   "execution_count": 41,
   "metadata": {},
   "outputs": [
    {
     "name": "stdout",
     "output_type": "stream",
     "text": [
      "median: -0.70\n",
      "5-95 percent confidence interval: -1.46 to 0.06\n"
     ]
    }
   ],
   "source": [
    "## regression of flux vs. Ts\n",
    "slope=monteCarlo1(np.array(ceres.ts),np.array(ceres.flux),runs=numSortRuns,autocorr=True)[0]\n",
    "print('median: {:.2f}'.format(np.median(slope)))\n",
    "print('5-95 percent confidence interval: {:.2f} to {:.2f}'.format(np.percentile(slope,5),np.percentile(slope,95)))"
   ]
  },
  {
   "cell_type": "code",
   "execution_count": 42,
   "metadata": {},
   "outputs": [
    {
     "name": "stdout",
     "output_type": "stream",
     "text": [
      "median: -0.84\n",
      "5-95 percent confidence interval: -1.36 to -0.33\n"
     ]
    }
   ],
   "source": [
    "## regression of flux vs. Ta\n",
    "slope=monteCarlo1(np.array(ceres.ta),np.array(ceres.flux),runs=numSortRuns,autocorr=True)[0]\n",
    "print('median: {:.2f}'.format(np.median(slope)))\n",
    "print('5-95 percent confidence interval: {:.2f} to {:.2f}'.format(np.percentile(slope,5),np.percentile(slope,95)))"
   ]
  },
  {
   "cell_type": "markdown",
   "metadata": {},
   "source": [
    "Conclusion: using annual average in the $\\lambda$ calculation gives an uncertainty about equal to using monthly average.  But using it in the $\\Theta$ calculation gives a much larger uncertainty"
   ]
  },
  {
   "cell_type": "code",
   "execution_count": 32,
   "metadata": {},
   "outputs": [
    {
     "name": "stdout",
     "output_type": "stream",
     "text": [
      "LinregressResult(slope=-0.018490778438178007, intercept=-0.9837354919838726, rvalue=-0.028186573712292468, pvalue=0.8936051575964492, stderr=0.13673396294099832)\n"
     ]
    },
    {
     "data": {
      "image/png": "[encoded data removed]",
      "text/plain": [
       "<matplotlib.figure.Figure at 0x7f4cf6b2d518>"
      ]
     },
     "metadata": {},
     "output_type": "display_data"
    }
   ],
   "source": [
    "p1=np.array([feedbacks[ii]['piControl']['flux']['t_trop'] for ii in modname])\n",
    "p2=np.array([feedbacks[ii]['abrupt4xCO2']['flux']['t_trop'] for ii in modname])\n",
    "figure(figsize=(4.5,4))\n",
    "plt.subplots_adjust(bottom=0.15,right=0.85)\n",
    "plot(p1,p2,'o')\n",
    "xlabel('$\\Theta_{4xCO2}$',fontsize=16)\n",
    "ylabel('$\\Theta_{iv}$',fontsize=16)\n",
    "one2one=np.linspace(-1.6,-0.2)\n",
    "plot(one2one,one2one,'k',ls='dotted')\n",
    "colorplotRight(gca())\n",
    "print(stats.linregress(p1,p2))\n",
    "savefig('corr')"
   ]
  },
  {
   "cell_type": "code",
   "execution_count": 19,
   "metadata": {},
   "outputs": [
    {
     "name": "stdout",
     "output_type": "stream",
     "text": [
      "average ECS of the good models: 2.90\n",
      "std of 0.48\n",
      "range of 2.04 to 3.86\n"
     ]
    },
    {
     "data": {
      "image/png": "[encoded data removed]",
      "text/plain": [
       "<matplotlib.figure.Figure at 0x7fa0cd458350>"
      ]
     },
     "metadata": {},
     "output_type": "display_data"
    }
   ],
   "source": [
    "# sort models by p/a\n",
    "mod2=[]\n",
    "for key, value in sorted(ecs2.iteritems(), key=lambda (k,v): (v,k)):\n",
    "    mod2.append(key)\n",
    "\n",
    "fig, axes = plt.subplots(nrows=3, ncols=1,figsize=(8,8))\n",
    "plt.subplots_adjust(bottom=0.25,hspace=0)\n",
    "\n",
    "good=good_list.theta_detrended\n",
    "\n",
    "# theta comparison\n",
    "sca(axes[0])\n",
    "\n",
    "low,high=np.percentile(slope_list.theta_detrended,5),np.percentile(slope_list.theta_detrended,95) # 5-95% uncertainty\n",
    "avgceres=np.average(slope_list.theta_detrended)\n",
    "\n",
    "for ii,vv in enumerate(mod2):\n",
    "    if vv in good:\n",
    "        plot([ii],feedbacks[vv]['piControl']['flux']['t_trop'],'k^',markersize=8)\n",
    "    else:\n",
    "        plot([ii],feedbacks[vv]['piControl']['flux']['t_trop'],'+',color='0.6',markersize=12,mew=4)\n",
    "\n",
    "fill_between([-100,100],low,high,color='0.9')\n",
    "axhline(avgceres,color='k',ls='dashed')\n",
    "\n",
    "plot(100,0,'k^',label='good',markersize=8)\n",
    "plot(100,0,'k+',label='bad',markersize=10,mew=4,color='0.6')\n",
    "\n",
    "gca().set_xticks(range(len(mod2)));\n",
    "xlim(-0.5,len(mod2)-0.5)\n",
    "# legend(loc=4)\n",
    "grid()\n",
    "ylabel(r'$\\Theta_{iv}$',fontsize=22)\n",
    "# ylabel(r'$\\Theta_{iv}$/$\\Theta_{forced}$',fontsize=22)\n",
    "gca().set_yticks([-1.5,-1,-0.5,0]);\n",
    "\n",
    "# ECS\n",
    "sca(axes[1])\n",
    "goodECS=[]\n",
    "for ii,vv in enumerate(mod2):\n",
    "    if vv in good:\n",
    "        plot([ii],ecs2[vv],'k^',markersize=8)\n",
    "        goodECS.append(ecs2[vv])\n",
    "    else:\n",
    "        plot([ii],ecs2[vv],'+',color='0.6',markersize=12,mew=4)\n",
    "\n",
    "ylim(1.8,4.5)\n",
    "gca().set_yticks([2,2.5,3,3.5,4,4.5]);\n",
    "        \n",
    "xlim(-0.5,len(mod2)-0.5)\n",
    "ylabel('ECS',fontsize=22)\n",
    "\n",
    "gca().set_xticks(range(len(mod2)));\n",
    "grid()\n",
    "\n",
    "plot(100,0,'k^',label='good',markersize=8)\n",
    "plot(100,0,'k+',label='bad',markersize=10,mew=4,color='0.6')\n",
    "legend(loc=4)\n",
    "\n",
    "# lambda comparison\n",
    "sca(axes[2])\n",
    "\n",
    "low,high=np.percentile(slope_list.lambda_detrended,5),np.percentile(slope_list.lambda_detrended,95) # 5-95% uncertainty\n",
    "avgceres=np.average(slope_list.lambda_detrended)\n",
    "\n",
    "for ii,vv in enumerate(mod2):\n",
    "    if vv in good:\n",
    "        plot([ii],feedbacks[vv]['piControl']['flux']['ts'],'k^',markersize=8)\n",
    "    else:\n",
    "        plot([ii],feedbacks[vv]['piControl']['flux']['ts'],'+',color='0.6',markersize=12,mew=4)\n",
    "\n",
    "fill_between([-100,100],low,high,color='0.9')\n",
    "axhline(avgceres,color='k',ls='dashed')\n",
    "xlim(-0.5,len(mod2)-0.5)\n",
    "ylim(-1.8,0.1)\n",
    "grid()\n",
    "\n",
    "plot(100,0,'k^',label='good',markersize=8)\n",
    "plot(100,0,'k+',label='bad',markersize=10,mew=4,color='0.6')\n",
    "ylabel(r'$\\lambda_{iv}$',fontsize=22)\n",
    "gca().set_yticks([-1.5,-1,-0.5,0]);\n",
    "gca().set_xticks(range(len(mod2)));\n",
    "\n",
    "sca(axes[2])\n",
    "\n",
    "gca().set_xticks(range(len(mod2)));\n",
    "gca().set_xticklabels(mod2,rotation='90');\n",
    "\n",
    "for ii,ax in enumerate(axes):\n",
    "#     ax.axvline(14.5,color='k')\n",
    "    ax.text(0.05,[0.8,0.8,0.8][ii],'(a),(b),(c)'.split(',')[ii],fontsize=16,transform=ax.transAxes)\n",
    "# if printf: \n",
    "#     savefig('Fig7.eps')\n",
    "#     savefig('Fig7')\n",
    "\n",
    "print 'average ECS of the good models: {:.2f}'.format(np.average(goodECS))\n",
    "print 'std of {:.2f}'.format(np.std(goodECS))\n",
    "print 'range of {:.2f} to {:.2f}'.format(np.min(goodECS),np.max(goodECS))"
   ]
  },
  {
   "cell_type": "markdown",
   "metadata": {},
   "source": [
    "## plot $\\Theta_{iv}$ vs. $\\Theta_{4xCO2}$"
   ]
  },
  {
   "cell_type": "code",
   "execution_count": 31,
   "metadata": {
    "collapsed": true
   },
   "outputs": [],
   "source": [
    "## plot code\n",
    "missing=object()\n",
    "almost_black = '#262626' # tweek from Thorsten\n",
    "\n",
    "def plotFeedbacks(p,a,modn,ax=missing,title=missing,era='t_trop',pspines=['left','bottom']):\n",
    "    \"\"\"plot piControl feedback vs. abrupt 4xCO2 feedback calculated from\n",
    "    fluxvar vs. tempvar; era is a flat — if true, it plots ERAi feedback\n",
    "    spines tells you where to put the axes [right/left,bottom/top]\"\"\"\n",
    "           \n",
    "    if ax is missing:\n",
    "        figure(figsize=(9,7))\n",
    "        ax=gca()\n",
    "\n",
    "    ax.plot(p,a,'ko')\n",
    "    \n",
    "    invisible=set('left,top,right,bottom'.split(',')).difference(set(pspines))\n",
    "    for spx in invisible:\n",
    "        ax.spines[spx].set_visible(False)\n",
    "\n",
    "    # Only show ticks on the left and bottom spines\n",
    "    ax.yaxis.set_ticks_position(pspines[0])\n",
    "    ax.xaxis.set_ticks_position(pspines[1])\n",
    "    \n",
    "    # set axis positions\n",
    "    ax.yaxis.set_label_position(pspines[0]) \n",
    "    ax.xaxis.set_label_position(pspines[1]) \n",
    "    \n",
    "    for spx in pspines:\n",
    "        ax.spines[spx].set_linewidth(0.5)\n",
    "        ax.spines[spx].set_color(almost_black)\n",
    "    \n",
    "    for ticks in ax.xaxis.get_ticklines() + ax.yaxis.get_ticklines():\n",
    "        ticks.set_color(almost_black)\n",
    "        \n",
    "    ax.plot(np.linspace(-5,5),np.linspace(-5,5),almost_black,ls='dotted')\n",
    "#     ax.plot(np.linspace(-5,5),np.linspace(-5,5)*0.8,almost_black,ls='dotted')\n",
    "#     ax.plot(np.linspace(-5,5),np.linspace(-5,5)*1.2,almost_black,ls='dotted')\n",
    "    \n",
    "    ax.tick_params(axis='both', which='major', labelsize=14)\n",
    "\n",
    "    for ii,mn in enumerate(modn):\n",
    "        ax.annotate('{}'.format(mn), (p[ii],a[ii]),fontsize=9)\n",
    "    \n",
    "    if title is missing:\n",
    "        ax.set_title('{} {}'.format(fluxvar,tempvar),fontsize=16)\n",
    "    else:\n",
    "        ax.set_title(title,fontsize=16)\n",
    "    \n",
    "    if era != '':\n",
    "        obs=erai['flux'][era]\n",
    "        ax.axvline(obs.b[1],color='k',ls='dotted',lw=3)\n",
    "        ax.fill_betweenx([-10,10],[obs.b[1]-obs.conf90[1],obs.b[1]-obs.conf90[1]],\\\n",
    "                      [obs.b[1]+obs.conf90[1],obs.b[1]+obs.conf90[1]],alpha=0.1,color='k')\n",
    "\n",
    "#     ax.set_xlim(np.average(p)-1.1,np.average(p)+1.1)\n",
    "#     ax.set_ylim(np.average(a)-1.1,np.average(a)+1.1)\n",
    "#     xlim(-2,0.5)\n",
    "#     ylim(-2,0.5)"
   ]
  },
  {
   "cell_type": "code",
   "execution_count": 36,
   "metadata": {},
   "outputs": [
    {
     "data": {
      "text/plain": [
       "[<matplotlib.lines.Line2D at 0x7fde7bb7bd90>]"
      ]
     },
     "execution_count": 36,
     "metadata": {},
     "output_type": "execute_result"
    },
    {
     "data": {
      "image/png": "[encoded data removed]",
      "text/plain": [
       "<matplotlib.figure.Figure at 0x7fde7bbd1c50>"
      ]
     },
     "metadata": {},
     "output_type": "display_data"
    }
   ],
   "source": [
    "figure(figsize=(7,5))\n",
    "\n",
    "good=good_list.theta_detrended\n",
    "p=[feedbacks[vv]['piControl']['flux']['t_trop'] for vv in models]\n",
    "a=[feedbacks[vv]['abrupt4xCO2']['flux']['t_trop'] for vv in models]\n",
    "\n",
    "plotFeedbacks(p,a,models,ax=gca(),title='',era='',pspines=['right','top']) \n",
    "\n",
    "gca().set_xticks(np.arange(-2,0.5,0.5))\n",
    "gca().set_xticklabels('-2.0,-1.5,-1.0,-0.5,'.split(','))\n",
    "gca().set_yticks(np.arange(-2,0.5,0.5))\n",
    "gca().set_yticklabels('-2.0,-1.5,-1.0,-0.5,0.0'.split(','))\n",
    "\n",
    "xlim(-1.8,0)\n",
    "ylim(-1.8,0)\n",
    "\n",
    "xlabel('control $\\Theta$',fontsize=22,color=almost_black)\n",
    "ylabel('abrupt $\\Theta$',fontsize=22,color=almost_black,rotation=90)\n",
    "\n",
    "plot([np.average(p)],[np.average(a)],marker='*',color='r',markersize=14)\n"
   ]
  },
  {
   "cell_type": "code",
   "execution_count": null,
   "metadata": {
    "collapsed": true
   },
   "outputs": [],
   "source": []
  }
 ],
 "metadata": {
  "anaconda-cloud": {},
  "kernelspec": {
   "display_name": "Python 3",
   "language": "python",
   "name": "python3"
  },
  "language_info": {
   "codemirror_mode": {
    "name": "ipython",
    "version": 3
   },
   "file_extension": ".py",
   "mimetype": "text/x-python",
   "name": "python",
   "nbconvert_exporter": "python",
   "pygments_lexer": "ipython3",
   "version": "3.6.4"
  }
 },
 "nbformat": 4,
 "nbformat_minor": 1
}
