{
 "cells": [
  {
   "cell_type": "markdown",
   "metadata": {},
   "source": [
    "# Figure 2"
   ]
  },
  {
   "cell_type": "code",
   "execution_count": 6,
   "metadata": {},
   "outputs": [],
   "source": [
    "from netCDF4 import Dataset\n",
    "from scipy import stats\n",
    "import pdb, glob, os, data, inspect, sys, numpy as np\n",
    "from collections import namedtuple\n",
    "\n",
    "from matplotlib.pyplot import *\n",
    "import matplotlib.pyplot as plt\n",
    "import xarray as xr\n",
    "import pandas as pd"
   ]
  },
  {
   "cell_type": "code",
   "execution_count": 2,
   "metadata": {},
   "outputs": [],
   "source": [
    "## Read in models\n",
    "modout=xr.open_dataset('historical/globalavg/historicalEnsemble.nc')\n",
    "\n",
    "modout['time']=pd.to_datetime(modout.time, format='%Y%m%d.%f')\n",
    "modout=modout.groupby('time.year').mean(dim='time') # annual average\n",
    "\n",
    "flux=np.array(modout.srad0+modout.trad0).squeeze()\n",
    "ts=np.array(modout.temp2).squeeze()\n",
    "ta=np.array(modout.t_trop).squeeze()\n",
    "tag=np.array(modout.t).squeeze()\n",
    "tst=np.array(modout.temp2_trop).squeeze()"
   ]
  },
  {
   "cell_type": "code",
   "execution_count": 3,
   "metadata": {},
   "outputs": [
    {
     "name": "stdout",
     "output_type": "stream",
     "text": [
      "delta F = 2.20 W/m^2\n"
     ]
    }
   ],
   "source": [
    "## forcing_aed_ensemble described in notes on 170426\n",
    "# forcing is already annually averaged\n",
    "forcing=xr.open_dataset('historical/globalavg/forcing_aed_ensemble.nc')\n",
    "forcing=np.array(forcing.f).squeeze()\n",
    "forcing=forcing[:156];forcing=forcing.reshape(156,1) # make same length as model runs\n",
    "\n",
    "print('delta F = {:.2f} W/m^2'.format(np.average(forcing[-10:]-forcing[:10])))"
   ]
  },
  {
   "cell_type": "code",
   "execution_count": 4,
   "metadata": {},
   "outputs": [],
   "source": [
    "## calculate lambda and theta\n",
    "## output is m1all; m1all[0] is lambda, while m1all[1] is theta\n",
    "s=len(forcing)\n",
    "\n",
    "## analyze\n",
    "length=10 # length of period (in years) at beginning and end to average\n",
    "m1all=[]\n",
    "for tempx in [ts,ta,tag,tst]:\n",
    "\n",
    "    flux1=flux-forcing \n",
    "    \n",
    "    drg=np.average(flux1[-length:,]-flux1[:length,],axis=0)\n",
    "    dtg=np.average(tempx[-length:,]-tempx[:length,],axis=0)\n",
    "\n",
    "    m1all.append(drg/dtg)"
   ]
  },
  {
   "cell_type": "code",
   "execution_count": 7,
   "metadata": {},
   "outputs": [],
   "source": [
    "## read in 4xCO2 run of MPI-ESM\n",
    "mpi = namedtuple('mpi', ('ts','ttrop','flux','t'))\n",
    "modelname='historical/globalavg/model0003.nc'\n",
    "ovar=[]\n",
    "with Dataset(modelname) as fni:\n",
    "    for var in ['temp2','trad0','srad0','t_trop','t']:\n",
    "        fx=fni[var][:].squeeze()\n",
    "        ovar.append(fx)\n",
    "\n",
    "mpiout=mpi(ts=ovar[0],flux=ovar[1]+ovar[2],ttrop=ovar[3],t=ovar[4])\n",
    "\n",
    "modelname='historical/globalavg/model0001.nc'\n",
    "ovar=[]\n",
    "with Dataset(modelname) as fni:\n",
    "    for var in ['temp2','trad0','srad0','t_trop','t']:\n",
    "        fx=fni[var][:].squeeze()\n",
    "        ovar.append(fx)\n",
    "\n",
    "mpicontrol=mpi(ts=ovar[0],flux=ovar[1]+ovar[2],ttrop=ovar[3],t=ovar[4])"
   ]
  },
  {
   "cell_type": "markdown",
   "metadata": {},
   "source": [
    "_calculate values from the abrupt 4xCO2 model_"
   ]
  },
  {
   "cell_type": "code",
   "execution_count": 8,
   "metadata": {},
   "outputs": [
    {
     "name": "stdout",
     "output_type": "stream",
     "text": [
      "abrupt 4xCO2 $\\lambda$: -1.36 W/m2/K\n",
      "abrupt 4xCO2 ECS: 2.87 K\n",
      "abrupt 4xCO2 $\\Theta$: -1.03 W/m2/K\n",
      "abrupt 4xCO2 $\\Theta_a$: -1.13 W/m2/K\n",
      "\n",
      "ECS from all 2600 years: 3.37\n",
      "lambda from all 2600 years: -0.95\n",
      "theta from all 2600 years: -1.00\n"
     ]
    }
   ],
   "source": [
    "# calculate lambda for MPI model\n",
    "# f1 = annual average flux\n",
    "f1=(mpiout.flux-np.average(mpicontrol.flux)).reshape(len(mpiout.ts)//12,12).mean(axis=1)\n",
    "\n",
    "# fit vs. Ts\n",
    "t1=(mpiout.ts-np.average(mpicontrol.ts)).reshape(len(mpiout.ts)//12,12).mean(axis=1)\n",
    "mpifitTs=stats.linregress(t1[:150],f1[:150])\n",
    "\n",
    "# fit vs. Ta,trop\n",
    "t2=(mpiout.ttrop-np.average(mpicontrol.ttrop)).reshape(len(mpiout.ttrop)//12,12).mean(axis=1)\n",
    "mpifitTtrop=stats.linregress(t2[:150],f1[:150])\n",
    "\n",
    "# fit vs. Ta,global\n",
    "t3=(mpiout.t-np.average(mpicontrol.t)).reshape(len(mpiout.t)//12,12).mean(axis=1)\n",
    "mpifitTa=stats.linregress(t3[:150],f1[:150])\n",
    "\n",
    "mpiforcing=3.9 # from 1% runs\n",
    "print('abrupt 4xCO2 $\\lambda$: {:.2f} W/m2/K'.format(mpifitTs.slope))\n",
    "print('abrupt 4xCO2 ECS: {:.2f} K'.format(-mpiforcing/mpifitTs.slope))\n",
    "print('abrupt 4xCO2 $\\Theta$: {:.2f} W/m2/K'.format(mpifitTtrop.slope))\n",
    "print('abrupt 4xCO2 $\\Theta_a$: {:.2f} W/m2/K'.format(mpifitTa.slope))\n",
    "print('')\n",
    "\n",
    "print('ECS from all 2600 years: {:.2f}'.format(np.average(t1[-30:])/2))\n",
    "print('lambda from all 2600 years: {:.2f}'.format(stats.linregress(t1,f1).slope))\n",
    "print('theta from all 2600 years: {:.2f}'.format(stats.linregress(t2,f1).slope))"
   ]
  },
  {
   "cell_type": "code",
   "execution_count": 9,
   "metadata": {},
   "outputs": [],
   "source": [
    "def colorplot(ax):\n",
    "    \n",
    "    almost_black = '#262626' # tweek from Thorsten\n",
    "    \n",
    "    for spx in ['top','right']:\n",
    "            ax.spines[spx].set_visible(False)\n",
    "\n",
    "    # Only show ticks on the left and bottom spines\n",
    "    ax.yaxis.set_ticks_position('left')\n",
    "    ax.xaxis.set_ticks_position('bottom')\n",
    "    \n",
    "    # set axis positions\n",
    "#     ax.yaxis.set_label_position(pspines[0]) \n",
    "#     ax.xaxis.set_label_position(pspines[1]) \n",
    "    \n",
    "    for spx in ['bottom','left']:\n",
    "        ax.spines[spx].set_linewidth(0.5)\n",
    "        ax.spines[spx].set_color(almost_black)\n",
    "    \n",
    "    for ticks in ax.xaxis.get_ticklines() + ax.yaxis.get_ticklines():\n",
    "        ticks.set_color(almost_black)"
   ]
  },
  {
   "cell_type": "code",
   "execution_count": 10,
   "metadata": {},
   "outputs": [
    {
     "data": {
      "image/png": "[encoded data removed]",
      "text/plain": [
       "<matplotlib.figure.Figure at 0x7f1ee3413d30>"
      ]
     },
     "metadata": {},
     "output_type": "display_data"
    }
   ],
   "source": [
    "import matplotlib as mpl\n",
    "\n",
    "mpl.rcParams['xtick.labelsize'] = 14\n",
    "mpl.rcParams['ytick.labelsize'] = 14\n",
    "\n",
    "# figure 2 — histogram version\n",
    "fig = figure(figsize=(18,5))\n",
    "\n",
    "rect=0.13, 0.13, 0.5, 0.8\n",
    "ax=fig.add_axes(rect) \n",
    "\n",
    "## left-hand panel\n",
    "m1=m1all[1]\n",
    "ax.hist(m1,color='0.6',normed=True,edgecolor='black', linewidth=1.2)\n",
    "for ii in [5,50,95]:\n",
    "    ax.axvline(np.percentile(m1,ii),color='k',ls='dotted',lw=2) \n",
    "\n",
    "ax.text(0.06,0.9,'(a)',fontsize=20,transform=ax.transAxes)\n",
    "\n",
    "m1=m1all[0]\n",
    "ax.hist(m1,color='0.8',normed=True,alpha=0.6,edgecolor='black', linewidth=1.2)\n",
    "colorplot(ax)\n",
    "for ii in [5,50,95]:\n",
    "    ax.axvline(np.percentile(m1,ii),color='k',ls='dashed',lw=1) \n",
    "\n",
    "ax.set_xlim(-1.9,-0.8)\n",
    "# x1=axes[0].get_ylim();axes[0].set_ylim(x1[0],x1[1]*1.1)\n",
    "    \n",
    "ax.set_xlabel('$\\lambda$ or $\\Theta$ ($W/m^2/K$)',fontsize=18)\n",
    "ax.set_ylabel('1/($W/m^2/K$)',fontsize=18)\n",
    "\n",
    "ax.text(-1.5,3.,'$\\lambda$',fontsize=28)\n",
    "ax.text(-1.1,6.,'$\\Theta$',fontsize=28)\n",
    "\n",
    "x1=ax.get_ylim();ax.set_ylim(x1[0],x1[1]*1.08)\n",
    "\n",
    "## right panel\n",
    "rect=0.7, 0.13, 0.25, 0.8\n",
    "ax=fig.add_axes(rect) \n",
    "ecs=-mpiforcing/np.array(m1all[0]) # calculate ECS with known forcing (see MPI forcing calc for first 70 years)\n",
    "ax.hist(ecs,color='0.8',bins=15,normed=True,edgecolor='black', linewidth=1.2)\n",
    "colorplot(ax)\n",
    "for ii in [5,50,95]:\n",
    "    ax.axvline(np.percentile(ecs,ii),color='k',ls='dashed',lw=1) \n",
    "\n",
    "# ax.text(0.5,0.85,'{:.2f}; {:.2f} to {:.2f}'.format(np.median(ecs),np.percentile(ecs,5),np.percentile(ecs,95)),\\\n",
    "#         fontsize=16,transform=ax.transAxes)\n",
    "ax.text(0.06,0.9,'(b)',fontsize=20,transform=ax.transAxes)\n",
    "\n",
    "x1=ax.get_ylim();ax.set_ylim(x1[0],x1[1]*1.08)\n",
    "ax.set_xlabel('ECS ($K$)',fontsize=18)\n",
    "ax.set_ylabel('$1/K$',fontsize=18);\n",
    "\n",
    "# savefig('fig2.pdf')"
   ]
  },
  {
   "cell_type": "code",
   "execution_count": 13,
   "metadata": {},
   "outputs": [
    {
     "name": "stdout",
     "output_type": "stream",
     "text": [
      "range of ECS: 2.08 to 3.87\n",
      "5-95% range of ECS: 2.39 to 3.34\n",
      "median of ECS: 2.72\n",
      "average of ECS: 2.76\n"
     ]
    }
   ],
   "source": [
    "print('range of ECS: {:.2f} to {:.2f}'.format(np.min(ecs),np.max(ecs)))\n",
    "print('5-95% range of ECS: {:.2f} to {:.2f}'.format(np.percentile(ecs,5),np.percentile(ecs,95)))\n",
    "print('median of ECS: {:.2f}'.format(np.median(ecs)))\n",
    "print('average of ECS: {:.2f}'.format(np.average(ecs)))"
   ]
  },
  {
   "cell_type": "code",
   "execution_count": 14,
   "metadata": {},
   "outputs": [
    {
     "name": "stdout",
     "output_type": "stream",
     "text": [
      "range of lambda: -1.88 to -1.01\n",
      "5-95% range of lambda: -1.63 to -1.17\n",
      "median of lambda: -1.43\n",
      "average of lambda: -1.42\n"
     ]
    }
   ],
   "source": [
    "print('range of lambda: {:.2f} to {:.2f}'.format(np.min(m1all[0]),np.max(m1all[0])))\n",
    "print('5-95% range of lambda: {:.2f} to {:.2f}'.format(np.percentile(m1all[0],5),np.percentile(m1all[0],95)))\n",
    "print('median of lambda: {:.2f}'.format(np.median(m1all[0])))\n",
    "print('average of lambda: {:.2f}'.format(np.average(m1all[0])))"
   ]
  },
  {
   "cell_type": "code",
   "execution_count": 15,
   "metadata": {},
   "outputs": [
    {
     "name": "stdout",
     "output_type": "stream",
     "text": [
      "range of theta: -1.18 to -0.89\n",
      "5-95% range of theta: -1.16 to -0.92\n",
      "median of theta: -1.04\n",
      "average of theta: -1.04\n"
     ]
    }
   ],
   "source": [
    "print('range of theta: {:.2f} to {:.2f}'.format(np.min(m1all[1]),np.max(m1all[1])))\n",
    "print('5-95% range of theta: {:.2f} to {:.2f}'.format(np.percentile(m1all[1],5),np.percentile(m1all[1],95)))\n",
    "print('median of theta: {:.2f}'.format(np.median(m1all[1])))\n",
    "print('average of theta: {:.2f}'.format(np.average(m1all[1])))"
   ]
  },
  {
   "cell_type": "markdown",
   "metadata": {},
   "source": [
    "## estimate impact of other lengths"
   ]
  },
  {
   "cell_type": "markdown",
   "metadata": {},
   "source": [
    "this code calculates how the statistics of the ensemble change if the averaging period changes"
   ]
  },
  {
   "cell_type": "code",
   "execution_count": 20,
   "metadata": {},
   "outputs": [
    {
     "ename": "KeyError",
     "evalue": "3",
     "output_type": "error",
     "traceback": [
      "\u001b[0;31m---------------------------------------------------------------------------\u001b[0m",
      "\u001b[0;31mKeyError\u001b[0m                                  Traceback (most recent call last)",
      "\u001b[0;32m/usr/local/anaconda/lib/python3.6/site-packages/xarray/core/dataset.py\u001b[0m in \u001b[0;36m_construct_dataarray\u001b[0;34m(self, name)\u001b[0m\n\u001b[1;32m    779\u001b[0m         \u001b[0;32mtry\u001b[0m\u001b[0;34m:\u001b[0m\u001b[0;34m\u001b[0m\u001b[0m\n\u001b[0;32m--> 780\u001b[0;31m             \u001b[0mvariable\u001b[0m \u001b[0;34m=\u001b[0m \u001b[0mself\u001b[0m\u001b[0;34m.\u001b[0m\u001b[0m_variables\u001b[0m\u001b[0;34m[\u001b[0m\u001b[0mname\u001b[0m\u001b[0;34m]\u001b[0m\u001b[0;34m\u001b[0m\u001b[0m\n\u001b[0m\u001b[1;32m    781\u001b[0m         \u001b[0;32mexcept\u001b[0m \u001b[0mKeyError\u001b[0m\u001b[0;34m:\u001b[0m\u001b[0;34m\u001b[0m\u001b[0m\n",
      "\u001b[0;31mKeyError\u001b[0m: 3",
      "\nDuring handling of the above exception, another exception occurred:\n",
      "\u001b[0;31mKeyError\u001b[0m                                  Traceback (most recent call last)",
      "\u001b[0;32m<ipython-input-20-8f79b64c08a9>\u001b[0m in \u001b[0;36m<module>\u001b[0;34m()\u001b[0m\n\u001b[1;32m     15\u001b[0m \u001b[0;34m\u001b[0m\u001b[0m\n\u001b[1;32m     16\u001b[0m         \u001b[0;31m# calculate lambda for abrupt runs\u001b[0m\u001b[0;34m\u001b[0m\u001b[0;34m\u001b[0m\u001b[0m\n\u001b[0;32m---> 17\u001b[0;31m                 \u001b[0mmod1\u001b[0m\u001b[0;34m=\u001b[0m\u001b[0mmodout\u001b[0m\u001b[0;34m[\u001b[0m\u001b[0;36m3\u001b[0m\u001b[0;34m]\u001b[0m\u001b[0;34m\u001b[0m\u001b[0m\n\u001b[0m\u001b[1;32m     18\u001b[0m                 \u001b[0mflux\u001b[0m\u001b[0;34m=\u001b[0m\u001b[0manomaly\u001b[0m\u001b[0;34m(\u001b[0m\u001b[0mmod1\u001b[0m\u001b[0;34m.\u001b[0m\u001b[0mflux\u001b[0m\u001b[0;34m)\u001b[0m \u001b[0;31m# fluxes are the same for all calcs\u001b[0m\u001b[0;34m\u001b[0m\u001b[0m\n\u001b[1;32m     19\u001b[0m \u001b[0;34m\u001b[0m\u001b[0m\n",
      "\u001b[0;32m/usr/local/anaconda/lib/python3.6/site-packages/xarray/core/dataset.py\u001b[0m in \u001b[0;36m__getitem__\u001b[0;34m(self, key)\u001b[0m\n\u001b[1;32m    872\u001b[0m \u001b[0;34m\u001b[0m\u001b[0m\n\u001b[1;32m    873\u001b[0m         \u001b[0;32mif\u001b[0m \u001b[0mhashable\u001b[0m\u001b[0;34m(\u001b[0m\u001b[0mkey\u001b[0m\u001b[0;34m)\u001b[0m\u001b[0;34m:\u001b[0m\u001b[0;34m\u001b[0m\u001b[0m\n\u001b[0;32m--> 874\u001b[0;31m             \u001b[0;32mreturn\u001b[0m \u001b[0mself\u001b[0m\u001b[0;34m.\u001b[0m\u001b[0m_construct_dataarray\u001b[0m\u001b[0;34m(\u001b[0m\u001b[0mkey\u001b[0m\u001b[0;34m)\u001b[0m\u001b[0;34m\u001b[0m\u001b[0m\n\u001b[0m\u001b[1;32m    875\u001b[0m         \u001b[0;32melse\u001b[0m\u001b[0;34m:\u001b[0m\u001b[0;34m\u001b[0m\u001b[0m\n\u001b[1;32m    876\u001b[0m             \u001b[0;32mreturn\u001b[0m \u001b[0mself\u001b[0m\u001b[0;34m.\u001b[0m\u001b[0m_copy_listed\u001b[0m\u001b[0;34m(\u001b[0m\u001b[0mnp\u001b[0m\u001b[0;34m.\u001b[0m\u001b[0masarray\u001b[0m\u001b[0;34m(\u001b[0m\u001b[0mkey\u001b[0m\u001b[0;34m)\u001b[0m\u001b[0;34m)\u001b[0m\u001b[0;34m\u001b[0m\u001b[0m\n",
      "\u001b[0;32m/usr/local/anaconda/lib/python3.6/site-packages/xarray/core/dataset.py\u001b[0m in \u001b[0;36m_construct_dataarray\u001b[0;34m(self, name)\u001b[0m\n\u001b[1;32m    781\u001b[0m         \u001b[0;32mexcept\u001b[0m \u001b[0mKeyError\u001b[0m\u001b[0;34m:\u001b[0m\u001b[0;34m\u001b[0m\u001b[0m\n\u001b[1;32m    782\u001b[0m             _, name, variable = _get_virtual_variable(\n\u001b[0;32m--> 783\u001b[0;31m                 self._variables, name, self._level_coords, self.dims)\n\u001b[0m\u001b[1;32m    784\u001b[0m \u001b[0;34m\u001b[0m\u001b[0m\n\u001b[1;32m    785\u001b[0m         \u001b[0mcoords\u001b[0m \u001b[0;34m=\u001b[0m \u001b[0mOrderedDict\u001b[0m\u001b[0;34m(\u001b[0m\u001b[0;34m)\u001b[0m\u001b[0;34m\u001b[0m\u001b[0m\n",
      "\u001b[0;32m/usr/local/anaconda/lib/python3.6/site-packages/xarray/core/dataset.py\u001b[0m in \u001b[0;36m_get_virtual_variable\u001b[0;34m(variables, key, level_vars, dim_sizes)\u001b[0m\n\u001b[1;32m     61\u001b[0m \u001b[0;34m\u001b[0m\u001b[0m\n\u001b[1;32m     62\u001b[0m     \u001b[0;32mif\u001b[0m \u001b[0;32mnot\u001b[0m \u001b[0misinstance\u001b[0m\u001b[0;34m(\u001b[0m\u001b[0mkey\u001b[0m\u001b[0;34m,\u001b[0m \u001b[0mbasestring\u001b[0m\u001b[0;34m)\u001b[0m\u001b[0;34m:\u001b[0m\u001b[0;34m\u001b[0m\u001b[0m\n\u001b[0;32m---> 63\u001b[0;31m         \u001b[0;32mraise\u001b[0m \u001b[0mKeyError\u001b[0m\u001b[0;34m(\u001b[0m\u001b[0mkey\u001b[0m\u001b[0;34m)\u001b[0m\u001b[0;34m\u001b[0m\u001b[0m\n\u001b[0m\u001b[1;32m     64\u001b[0m \u001b[0;34m\u001b[0m\u001b[0m\n\u001b[1;32m     65\u001b[0m     \u001b[0msplit_key\u001b[0m \u001b[0;34m=\u001b[0m \u001b[0mkey\u001b[0m\u001b[0;34m.\u001b[0m\u001b[0msplit\u001b[0m\u001b[0;34m(\u001b[0m\u001b[0;34m'.'\u001b[0m\u001b[0;34m,\u001b[0m \u001b[0;36m1\u001b[0m\u001b[0;34m)\u001b[0m\u001b[0;34m\u001b[0m\u001b[0m\n",
      "\u001b[0;31mKeyError\u001b[0m: 3"
     ]
    }
   ],
   "source": [
    "<<>> work on this <<>>\n",
    "s=len(forcing)\n",
    "\n",
    "## analyze\n",
    "for length in [10,25,50]:\n",
    "\n",
    "\tm1all=[]\n",
    "\tfor tempx in [ts,ta,tag,tst]:\n",
    "\n",
    "\t\tflux1=flux-forcing \n",
    "\n",
    "\t\tdrg=np.average(flux1[-length:,]-flux1[:length,],axis=0)\n",
    "\t\tdtg=np.average(tempx[-length:,]-tempx[:length,],axis=0)\n",
    "\n",
    "\t\tm1all.append(drg/dtg)\n",
    "<<>> print out stats here\n",
    "        # calculate lambda for abrupt runs\n",
    "\t\tmod1=modout[3]\n",
    "\t\tflux=anomaly(mod1.flux) # fluxes are the same for all calcs\n",
    "\n",
    "\t\ttvar=varn\n",
    "\t\tif latr == '30': tvar = tvar+'trop'\n",
    "\t\tcommandStr='t1=anomaly(mod1.{})'.format(tvar)\n",
    "\t\texec(commandStr)\n",
    "\t\ta1.append(stats.linregress(t1,flux).slope)\n",
    "\t\ta1.append(stats.linregress(t1[:150*12],flux[:150*12]).slope)\n",
    "\t\tabrupt.append(a1)\n",
    "\t\tprint('{} {} {}: {:.2f} +/- {:.2f}, {:.2}'.format(length,latr,varn,np.average(m1),np.std(m1),\\\n",
    "            np.max(m1)-np.min(m1)))"
   ]
  },
  {
   "cell_type": "markdown",
   "metadata": {
    "heading_collapsed": true
   },
   "source": [
    "## older stuff\n",
    "\n",
    "old version w/ values from 4xCO2 run"
   ]
  },
  {
   "cell_type": "code",
   "execution_count": 20,
   "metadata": {
    "hidden": true
   },
   "outputs": [
    {
     "data": {
      "text/plain": [
       "<matplotlib.text.Text at 0x7f0c7f427c90>"
      ]
     },
     "execution_count": 20,
     "metadata": {},
     "output_type": "execute_result"
    },
    {
     "data": {
      "image/png": "[encoded data removed]",
      "text/plain": [
       "<matplotlib.figure.Figure at 0x7f0c7f4c8ad0>"
      ]
     },
     "metadata": {},
     "output_type": "display_data"
    }
   ],
   "source": [
    "import matplotlib as mpl\n",
    "label_size = 8\n",
    "mpl.rcParams['xtick.labelsize'] = 14\n",
    "mpl.rcParams['ytick.labelsize'] = 14\n",
    "\n",
    "# figure 2 — histogram version\n",
    "fig = figure(figsize=(18,5))\n",
    "\n",
    "rect=0.13, 0.13, 0.5, 0.8\n",
    "ax=fig.add_axes(rect) \n",
    "\n",
    "## left-hand panel\n",
    "m1=m1all[1]\n",
    "ax.hist(m1,color='0.6',normed=True)\n",
    "ax.axvline(mpifitTtrop.slope,color='k',ls='dashed',lw=2) # from MPI climate sensitivity calc\n",
    "\n",
    "# ax.text(0.06,0.7,'$\\Theta$: {:.2f};{:.2f} to {:.2f}'.format(np.median(m1),np.percentile(m1,5),np.percentile(m1,95)),\\\n",
    "#         fontsize=16,transform=ax.transAxes)\n",
    "ax.text(0.06,0.9,'(a)',fontsize=20,transform=ax.transAxes)\n",
    "\n",
    "m1=m1all[0]\n",
    "ax.hist(m1,color='0.8',normed=True,alpha=0.6)\n",
    "colorplot(ax)\n",
    "ax.axvline(mpifitTs.slope,color='k',ls='dashed',lw=2) # from MPI climate sensitivity calc\n",
    "\n",
    "ax.text(mpifitTtrop.slope-0.005,6.65,'{:.2f}'.format(mpifitTtrop.slope),rotation=90,fontsize=14,backgroundcolor='w',ha='center') \n",
    "ax.text(mpifitTs.slope,6.65,'{:.2f}'.format(mpifitTs.slope),rotation=90,fontsize=14,backgroundcolor='w',ha='center') \n",
    "\n",
    "ax.set_xlim(-1.9,-0.8)\n",
    "# x1=axes[0].get_ylim();axes[0].set_ylim(x1[0],x1[1]*1.1)\n",
    "    \n",
    "ax.set_xlabel('$\\lambda$ or $\\Theta$',fontsize=22)\n",
    "\n",
    "# ax.text(0.061,0.78,'$\\lambda$: {:.2f};{:.2f} to {:.2f}'.format(np.median(m1),np.percentile(m1,5),np.percentile(m1,95)),\\\n",
    "#         fontsize=16,transform=ax.transAxes)\n",
    "\n",
    "ax.text(-1.5,3.,'$\\lambda$',fontsize=28)\n",
    "ax.text(-0.95,3.,'$\\Theta$',fontsize=28)\n",
    "\n",
    "x1=ax.get_ylim();ax.set_ylim(x1[0],x1[1]*1.08)\n",
    "\n",
    "## right panel\n",
    "rect=0.7, 0.13, 0.25, 0.8\n",
    "ax=fig.add_axes(rect) \n",
    "ecs=-mpiforcing/np.array(m1all[0]) # calculate ECS with known forcing (see MPI forcing calc for first 70 years)\n",
    "ax.hist(ecs,color='0.8',bins=15,normed=True)\n",
    "colorplot(ax)\n",
    "ax.axvline(-mpiforcing/mpifitTs.slope,color='k',ls='dashed',lw=2)\n",
    "ax.text(-mpiforcing/mpifitTs.slope+0.025,1.55,'{:.2f}'.format(-mpiforcing/mpifitTs.slope),\\\n",
    "    rotation=90,fontsize=14,backgroundcolor='w',ha='center') \n",
    "\n",
    "# ax.text(0.5,0.85,'{:.2f}; {:.2f} to {:.2f}'.format(np.median(ecs),np.percentile(ecs,5),np.percentile(ecs,95)),\\\n",
    "#         fontsize=16,transform=ax.transAxes)\n",
    "ax.text(0.06,0.9,'(b)',fontsize=20,transform=ax.transAxes)\n",
    "\n",
    "x1=ax.get_ylim();ax.set_ylim(x1[0],x1[1]*1.08)\n",
    "ax.set_xlabel('ECS',fontsize=22)\n",
    "\n",
    "# savefig('fig2.pdf')"
   ]
  },
  {
   "cell_type": "markdown",
   "metadata": {
    "hidden": true
   },
   "source": [
    "### Calculation using global-average Ta"
   ]
  },
  {
   "cell_type": "code",
   "execution_count": 92,
   "metadata": {
    "hidden": true
   },
   "outputs": [
    {
     "data": {
      "text/plain": [
       "<matplotlib.text.Text at 0x7f575655cb50>"
      ]
     },
     "execution_count": 92,
     "metadata": {},
     "output_type": "execute_result"
    },
    {
     "data": {
      "image/png": "[encoded data removed]",
      "text/plain": [
       "<matplotlib.figure.Figure at 0x7f57533c4050>"
      ]
     },
     "metadata": {},
     "output_type": "display_data"
    }
   ],
   "source": [
    "import matplotlib as mpl\n",
    "label_size = 8\n",
    "mpl.rcParams['xtick.labelsize'] = 14\n",
    "mpl.rcParams['ytick.labelsize'] = 14\n",
    "\n",
    "# figure 2 — histogram version\n",
    "fig = figure(figsize=(18,5))\n",
    "\n",
    "rect=0.13, 0.13, 0.5, 0.8\n",
    "ax=fig.add_axes(rect) \n",
    "\n",
    "## left-hand panel\n",
    "m1=m1all[2]\n",
    "ax.hist(m1,color='0.6',normed=True)\n",
    "ax.axvline(mpifitTa.slope,color='k',ls='dashed',lw=2) # from MPI climate sensitivity calc\n",
    "\n",
    "# ax.text(0.06,0.7,'$\\Theta$: {:.2f}$\\pm${:.2f}, {:.2f}'.format(np.median(m1),np.std(m1),(np.max(m1)-np.min(m1))),\\\n",
    "#         fontsize=20,transform=ax.transAxes)\n",
    "ax.text(0.06,0.7,'$\\Theta$: {:.2f};{:.2f} to {:.2f}'.format(np.median(m1),np.percentile(m1,5),np.percentile(m1,95)),\\\n",
    "        fontsize=16,transform=ax.transAxes)\n",
    "ax.text(0.06,0.9,'(a)',fontsize=20,transform=ax.transAxes)\n",
    "\n",
    "m1=m1all[0]\n",
    "ax.hist(m1,color='0.8',normed=True,alpha=0.6)\n",
    "colorplot(ax)\n",
    "ax.axvline(mpifitTs.slope,color='k',ls='dashed',lw=2) # from MPI climate sensitivity calc\n",
    "\n",
    "ax.text(mpifitTa.slope-0.005,6.65,'{:.2f}'.format(mpifitTa.slope),rotation=90,fontsize=14,backgroundcolor='w',ha='center') \n",
    "ax.text(mpifitTs.slope,6.65,'{:.2f}'.format(mpifitTs.slope),rotation=90,fontsize=14,backgroundcolor='w',ha='center') \n",
    "\n",
    "ax.set_xlim(-1.9,-0.8)\n",
    "# x1=axes[0].get_ylim();axes[0].set_ylim(x1[0],x1[1]*1.1)\n",
    "    \n",
    "ax.set_xlabel('$\\lambda$ or $\\Theta$',fontsize=22)\n",
    "\n",
    "# ax.text(0.06,0.8,'$\\lambda$: {:.2f}$\\pm${:.2f}, {:.2f}'.format(np.median(m1),np.std(m1),(np.max(m1)-np.min(m1))),\\\n",
    "#         fontsize=20,transform=ax.transAxes)\n",
    "ax.text(0.061,0.78,'$\\lambda$: {:.2f};{:.2f} to {:.2f}'.format(np.median(m1),np.percentile(m1,5),np.percentile(m1,95)),\\\n",
    "        fontsize=16,transform=ax.transAxes)\n",
    "\n",
    "ax.text(-1.5,3.,'$\\lambda$',fontsize=28)\n",
    "ax.text(-0.95,3.,'$\\Theta$',fontsize=28)\n",
    "\n",
    "x1=ax.get_ylim();ax.set_ylim(x1[0],x1[1]*1.08)\n",
    "\n",
    "## right panel\n",
    "rect=0.7, 0.13, 0.25, 0.8\n",
    "ax=fig.add_axes(rect) \n",
    "ecs=-mpiforcing/np.array(m1all[0]) # calculate ECS with known forcing (see MPI forcing calc for first 70 years)\n",
    "ax.hist(ecs,color='0.8',bins=15,normed=True)\n",
    "colorplot(ax)\n",
    "ax.axvline(-mpiforcing/mpifitTs.slope,color='k',ls='dashed',lw=2)\n",
    "ax.text(-mpiforcing/mpifitTs.slope+0.025,1.55,'{:.2f}'.format(-mpiforcing/mpifitTs.slope),\\\n",
    "    rotation=90,fontsize=14,backgroundcolor='w',ha='center') \n",
    "\n",
    "# ax.text(0.65,0.92,'%5.2f$\\pm$%4.2f' % (np.average(ecs),np.std(ecs)),\\\n",
    "#         fontsize=16,transform=ax.transAxes)\n",
    "# ax.text(0.8,0.82,'%4.2f' % (np.max(ecs)-np.min(ecs)),\\\n",
    "#         fontsize=16,transform=ax.transAxes)\n",
    "# ax.text(0.5,0.85,'{:.2f}$\\pm${:.2f}, {:.1f}'.format(np.median(ecs),np.std(ecs),(np.max(ecs)-np.min(ecs))),\\\n",
    "#         fontsize=20,transform=ax.transAxes)\n",
    "ax.text(0.5,0.85,'{:.2f}; {:.2f} to {:.2f}'.format(np.median(ecs),np.percentile(ecs,5),np.percentile(ecs,95)),\\\n",
    "        fontsize=16,transform=ax.transAxes)\n",
    "ax.text(0.06,0.9,'(b)',fontsize=20,transform=ax.transAxes)\n",
    "\n",
    "x1=ax.get_ylim();ax.set_ylim(x1[0],x1[1]*1.08)\n",
    "ax.set_xlabel('ECS',fontsize=22)"
   ]
  },
  {
   "cell_type": "markdown",
   "metadata": {
    "hidden": true
   },
   "source": [
    "Calculation using tropical-average Ts"
   ]
  },
  {
   "cell_type": "code",
   "execution_count": 95,
   "metadata": {
    "hidden": true
   },
   "outputs": [
    {
     "data": {
      "text/plain": [
       "<matplotlib.text.Text at 0x7f5753022810>"
      ]
     },
     "execution_count": 95,
     "metadata": {},
     "output_type": "execute_result"
    },
    {
     "data": {
      "image/png": "[encoded data removed]",
      "text/plain": [
       "<matplotlib.figure.Figure at 0x7f575343b590>"
      ]
     },
     "metadata": {},
     "output_type": "display_data"
    }
   ],
   "source": [
    "import matplotlib as mpl\n",
    "label_size = 8\n",
    "mpl.rcParams['xtick.labelsize'] = 14\n",
    "mpl.rcParams['ytick.labelsize'] = 14\n",
    "\n",
    "# figure 2 — histogram version\n",
    "fig = figure(figsize=(18,5))\n",
    "\n",
    "rect=0.13, 0.13, 0.5, 0.8\n",
    "ax=fig.add_axes(rect) \n",
    "\n",
    "## left-hand panel\n",
    "m1=m1all[3]\n",
    "ax.hist(m1,color='0.6',normed=True)\n",
    "\n",
    "# ax.text(0.06,0.7,'$\\Theta$: {:.2f}$\\pm${:.2f}, {:.2f}'.format(np.median(m1),np.std(m1),(np.max(m1)-np.min(m1))),\\\n",
    "#         fontsize=20,transform=ax.transAxes)\n",
    "ax.text(0.06,0.7,'$\\lambda_t$: {:.2f};{:.2f} to {:.2f}'.format(np.median(m1),np.percentile(m1,5),np.percentile(m1,95)),\\\n",
    "        fontsize=16,transform=ax.transAxes)\n",
    "ax.text(0.06,0.9,'(a)',fontsize=20,transform=ax.transAxes)\n",
    "\n",
    "m1=m1all[0]\n",
    "ax.hist(m1,color='0.8',normed=True,alpha=0.6)\n",
    "colorplot(ax)\n",
    "\n",
    "ax.set_xlim(-2.1,-0.8)\n",
    "# x1=axes[0].get_ylim();axes[0].set_ylim(x1[0],x1[1]*1.1)\n",
    "    \n",
    "ax.set_xlabel('$\\lambda$ or $\\Theta$',fontsize=22)\n",
    "\n",
    "# ax.text(0.06,0.8,'$\\lambda$: {:.2f}$\\pm${:.2f}, {:.2f}'.format(np.median(m1),np.std(m1),(np.max(m1)-np.min(m1))),\\\n",
    "#         fontsize=20,transform=ax.transAxes)\n",
    "ax.text(0.061,0.78,'$\\lambda$: {:.2f};{:.2f} to {:.2f}'.format(np.median(m1),np.percentile(m1,5),np.percentile(m1,95)),\\\n",
    "        fontsize=16,transform=ax.transAxes)\n",
    "\n",
    "ax.text(-1.5,3.,'$\\lambda$',fontsize=28)\n",
    "ax.text(-0.95,3.,'$\\Theta$',fontsize=28)\n",
    "\n",
    "x1=ax.get_ylim();ax.set_ylim(x1[0],x1[1]*1.08)\n",
    "\n",
    "## right panel\n",
    "rect=0.7, 0.13, 0.25, 0.8\n",
    "ax=fig.add_axes(rect) \n",
    "ecs=-mpiforcing/np.array(m1all[0]) # calculate ECS with known forcing (see MPI forcing calc for first 70 years)\n",
    "ax.hist(ecs,color='0.8',bins=15,normed=True)\n",
    "colorplot(ax)\n",
    "ax.axvline(-mpiforcing/mpifitTs.slope,color='k',ls='dashed',lw=2)\n",
    "ax.text(-mpiforcing/mpifitTs.slope+0.025,1.55,'{:.2f}'.format(-mpiforcing/mpifitTs.slope),\\\n",
    "    rotation=90,fontsize=14,backgroundcolor='w',ha='center') \n",
    "\n",
    "# ax.text(0.65,0.92,'%5.2f$\\pm$%4.2f' % (np.average(ecs),np.std(ecs)),\\\n",
    "#         fontsize=16,transform=ax.transAxes)\n",
    "# ax.text(0.8,0.82,'%4.2f' % (np.max(ecs)-np.min(ecs)),\\\n",
    "#         fontsize=16,transform=ax.transAxes)\n",
    "# ax.text(0.5,0.85,'{:.2f}$\\pm${:.2f}, {:.1f}'.format(np.median(ecs),np.std(ecs),(np.max(ecs)-np.min(ecs))),\\\n",
    "#         fontsize=20,transform=ax.transAxes)\n",
    "ax.text(0.5,0.85,'{:.2f}; {:.2f} to {:.2f}'.format(np.median(ecs),np.percentile(ecs,5),np.percentile(ecs,95)),\\\n",
    "        fontsize=16,transform=ax.transAxes)\n",
    "ax.text(0.06,0.9,'(b)',fontsize=20,transform=ax.transAxes)\n",
    "\n",
    "x1=ax.get_ylim();ax.set_ylim(x1[0],x1[1]*1.08)\n",
    "ax.set_xlabel('ECS',fontsize=22)"
   ]
  },
  {
   "cell_type": "markdown",
   "metadata": {
    "hidden": true
   },
   "source": [
    "### calculate stats for $T_{500}$"
   ]
  },
  {
   "cell_type": "code",
   "execution_count": 12,
   "metadata": {
    "hidden": true
   },
   "outputs": [
    {
     "name": "stdout",
     "output_type": "stream",
     "text": [
      "0101  0102  0103  0104  0105  0106  0107  0108  0109  0110  0111  0112  0113  0114  0115  0116  0117  0118  0119  0120  0121  0122  0123  0124  0125  0126  0127  0128  0129  0130  0131  0132  0133  0134  0135  0136  0137  0138  0139  0140  0141  0142  0143  0144  0145  0146  0147  0148  0149  0150  0151  0152  0153  0154  0155  0156  0157  0158  0159  0160  0161  0162  0163  0164  0165  0166  0167  0168  0169  0170  0171  0172  0173  0174  0175  0176  0177  0178  0179  0180  0181  0182  0183  0184  0185  0186  0187  0188  0189  0190  0191  0192  0193  0194  0195  0196  0197  0198  0199  0200 \n"
     ]
    }
   ],
   "source": [
    "s=len(forcing)\n",
    "\n",
    "## analyze\n",
    "length=10;m1all2=[]\n",
    "m1=[]\n",
    "for mn in range(101,201):\n",
    "\tprint '%04i ' % mn,\n",
    "\tsys.stdout.flush()\n",
    "\n",
    "\tmod1=modout[mn]\n",
    "\tflux=mod1.flux-forcing # fluxes are the same for all calcs\n",
    "\tt1=mod1.t\n",
    "\n",
    "\tdrg.append(np.average(flux[-length*12:]-flux[:length*12]))\n",
    "\tdtg.append(np.average(t1[-length*12:]-t1[:length*12]))\n",
    "\tm1.append(drg[-1]/dtg[-1])\n",
    "\n",
    "m1all2.append(m1)"
   ]
  },
  {
   "cell_type": "code",
   "execution_count": 13,
   "metadata": {
    "hidden": true
   },
   "outputs": [
    {
     "name": "stdout",
     "output_type": "stream",
     "text": [
      "average and standard deviation of $\\Theta$: -1.09 +/- 0.07\n"
     ]
    }
   ],
   "source": [
    "print 'average and standard deviation of $\\Theta$: {:.2f} +/- {:.2f}'.format(np.average(m1all2[0]),np.std(m1all2[0]))"
   ]
  }
 ],
 "metadata": {
  "kernelspec": {
   "display_name": "Python 3",
   "language": "python",
   "name": "python3"
  },
  "language_info": {
   "codemirror_mode": {
    "name": "ipython",
    "version": 3
   },
   "file_extension": ".py",
   "mimetype": "text/x-python",
   "name": "python",
   "nbconvert_exporter": "python",
   "pygments_lexer": "ipython3",
   "version": "3.6.4"
  }
 },
 "nbformat": 4,
 "nbformat_minor": 1
}
