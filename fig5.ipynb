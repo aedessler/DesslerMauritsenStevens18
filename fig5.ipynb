{
 "cells": [
  {
   "cell_type": "markdown",
   "metadata": {},
   "source": [
    "# Figure 5"
   ]
  },
  {
   "cell_type": "code",
   "execution_count": 1,
   "metadata": {},
   "outputs": [],
   "source": [
    "from scipy import stats\n",
    "import sys, ols\n",
    "import numpy as np\n",
    "from matplotlib.pyplot import *\n",
    "import matplotlib.pyplot as plt\n",
    "import xarray as xr, pandas as pd"
   ]
  },
  {
   "cell_type": "code",
   "execution_count": 2,
   "metadata": {},
   "outputs": [],
   "source": [
    "def global_average(idata):\n",
    "\t\"\"\"calculate global average\n",
    "\te.g., x1=gavg(d1['t2m'])\"\"\"\n",
    "\t\n",
    "\twgt1=np.cos(np.deg2rad(idata.lat))\n",
    "\tga=(wgt1*idata).sum(dim=['lat'])/wgt1.sum(dim=['lat'])\n",
    "\n",
    "\treturn ga"
   ]
  },
  {
   "cell_type": "code",
   "execution_count": 3,
   "metadata": {},
   "outputs": [],
   "source": [
    "def colorplotLeft(ax):\n",
    "    \n",
    "    almost_black = '#262626' # tweek from Thorsten\n",
    "    \n",
    "    for spx in ['bottom','right']:\n",
    "            ax.spines[spx].set_visible(False)\n",
    "\n",
    "    # Only show ticks on the left and bottom spines\n",
    "    ax.yaxis.set_ticks_position('left')\n",
    "    ax.xaxis.set_ticks_position('top')\n",
    "    \n",
    "    # set axis positions\n",
    "#     ax.yaxis.set_label_position(pspines[0]) \n",
    "    ax.xaxis.set_label_position('top') \n",
    "    \n",
    "    for spx in ['top','left']:\n",
    "        ax.spines[spx].set_linewidth(0.5)\n",
    "        ax.spines[spx].set_color(almost_black)\n",
    "    \n",
    "    for ticks in ax.xaxis.get_ticklines() + ax.yaxis.get_ticklines():\n",
    "        ticks.set_color(almost_black)"
   ]
  },
  {
   "cell_type": "markdown",
   "metadata": {},
   "source": [
    "## load data"
   ]
  },
  {
   "cell_type": "code",
   "execution_count": 5,
   "metadata": {},
   "outputs": [],
   "source": [
    "mod3=xr.open_dataset('historical/zonal/zonalEnsemble.nc')\n",
    "forcing=xr.open_dataset('historical/zonal/forcing_zonal.nc')"
   ]
  },
  {
   "cell_type": "code",
   "execution_count": 6,
   "metadata": {},
   "outputs": [
    {
     "data": {
      "text/plain": [
       "<xarray.Dataset>\n",
       "Dimensions:  (lat: 96, lev: 100, lon: 1, sfc: 100, year: 156)\n",
       "Coordinates:\n",
       "  * lon      (lon) float64 0.0\n",
       "  * lat      (lat) float64 88.57 86.72 84.86 83.0 81.13 79.27 77.41 75.54 ...\n",
       "  * sfc      (sfc) float64 0.0 0.0 0.0 0.0 0.0 0.0 0.0 0.0 0.0 0.0 0.0 0.0 ...\n",
       "  * lev      (lev) float64 5e+04 5e+04 5e+04 5e+04 5e+04 5e+04 5e+04 5e+04 ...\n",
       "  * year     (year) int64 1850 1851 1852 1853 1854 1855 1856 1857 1858 1859 ...\n",
       "Data variables:\n",
       "    flux     (year, sfc, lat, lon) float32 -125.333496 -125.69625 -125.65411 ...\n",
       "    temp2    (year, sfc, lat, lon) float32 256.39337 256.59824 256.68945 ...\n",
       "    t        (year, lev, lat, lon) float32 237.72585 237.77869 237.9189 ..."
      ]
     },
     "execution_count": 6,
     "metadata": {},
     "output_type": "execute_result"
    }
   ],
   "source": [
    "mod3['time']=pd.to_datetime(mod3.time, format='%Y%m%d.%f')\n",
    "mod3=mod3.groupby('time.year').mean(dim='time') # annual average\n",
    "\n",
    "# display mod3 variable\n",
    "mod3"
   ]
  },
  {
   "cell_type": "code",
   "execution_count": 7,
   "metadata": {},
   "outputs": [
    {
     "data": {
      "text/plain": [
       "<xarray.DataArray 'flux' (year: 156, sfc: 100, lat: 96)>\n",
       "array([[[-127.65418 , -126.39926 , ..., -100.01607 ,  -93.57836 ],\n",
       "        [-129.90286 , -128.0136  , ..., -101.08048 ,  -94.99735 ],\n",
       "        ...,\n",
       "        [-126.75538 , -125.42142 , ...,  -98.37166 ,  -92.76214 ],\n",
       "        [-129.64888 , -127.530624, ..., -100.76886 ,  -94.27153 ]],\n",
       "\n",
       "       [[-126.153595, -126.92601 , ...,  -99.79137 ,  -94.14409 ],\n",
       "        [-125.53686 , -127.01451 , ...,  -99.27007 ,  -93.37326 ],\n",
       "        ...,\n",
       "        [-126.47637 , -126.64117 , ...,  -98.689285,  -93.142334],\n",
       "        [-129.02544 , -130.23445 , ...,  -98.54623 ,  -93.235245]],\n",
       "\n",
       "       ...,\n",
       "\n",
       "       [[-124.708435, -124.87514 , ..., -100.00659 ,  -94.448875],\n",
       "        [-123.93623 , -122.91533 , ...,  -99.54682 ,  -93.19753 ],\n",
       "        ...,\n",
       "        [-125.77086 , -124.41661 , ..., -100.09743 ,  -94.289604],\n",
       "        [-125.719574, -124.37092 , ...,  -97.61714 ,  -91.66644 ]],\n",
       "\n",
       "       [[-125.04183 , -123.714455, ...,  -98.46268 ,  -93.67227 ],\n",
       "        [-126.41162 , -125.2709  , ...,  -98.01557 ,  -92.95387 ],\n",
       "        ...,\n",
       "        [-126.70614 , -125.714874, ...,  -99.473305,  -94.88671 ],\n",
       "        [-124.537735, -125.06046 , ...,  -98.08957 ,  -93.09216 ]]],\n",
       "      dtype=float32)\n",
       "Coordinates:\n",
       "  * year     (year) int64 1850 1851 1852 1853 1854 1855 1856 1857 1858 1859 ...\n",
       "    lon      float64 0.0\n",
       "  * lat      (lat) float64 88.57 86.72 84.86 83.0 81.13 79.27 77.41 75.54 ...\n",
       "  * sfc      (sfc) float64 0.0 0.0 0.0 0.0 0.0 0.0 0.0 0.0 0.0 0.0 0.0 0.0 ..."
      ]
     },
     "execution_count": 7,
     "metadata": {},
     "output_type": "execute_result"
    }
   ],
   "source": [
    "# calculate net flux including forcing\n",
    "# forcing['flux']=forcing.srad0+forcing.trad0\n",
    "forcing=forcing.assign(flux=forcing.srad0+forcing.trad0)\n",
    "forcing['time']=np.arange(len(forcing.time))+1850\n",
    "forcing.rename({'time':'year'},inplace=True)\n",
    "# forcex=np.array(forcing.flux[:156,]).reshape(156,1,96,1)\n",
    "flux=(mod3.flux-forcing.flux).squeeze()\n",
    "flux"
   ]
  },
  {
   "cell_type": "markdown",
   "metadata": {},
   "source": [
    "global average calculation"
   ]
  },
  {
   "cell_type": "code",
   "execution_count": 8,
   "metadata": {},
   "outputs": [],
   "source": [
    "fx=global_average(flux)\n",
    "ts1=global_average(mod3.temp2)\n",
    "ta1=global_average(mod3.t)"
   ]
  },
  {
   "cell_type": "code",
   "execution_count": 10,
   "metadata": {},
   "outputs": [],
   "source": [
    "def delta(idata):\n",
    "    \"\"\"calculate average difference of last 10 minus first 10 years\"\"\"\n",
    "    dx=idata.isel(year=slice(-10,None)).mean(dim='year')-idata.isel(year=slice(None,10)).mean(dim='year')\n",
    "    return dx\n",
    "\n",
    "dflux1=delta(fx)\n",
    "dts1=delta(ts1)\n",
    "dta1=delta(ta1)\n",
    "lambda1=dflux1/dts1;theta1=dflux1/dta1"
   ]
  },
  {
   "cell_type": "markdown",
   "metadata": {},
   "source": [
    "calculate regional feedbacks"
   ]
  },
  {
   "cell_type": "code",
   "execution_count": 11,
   "metadata": {},
   "outputs": [],
   "source": [
    "def area_avg(d1c):\n",
    "    \"\"\"d1 is xarray\n",
    "    routine returns average of field in 3 different equal area regions\n",
    "    SH, equatorial, NH\"\"\"\n",
    "    \n",
    "    # average into 3 bins of equal area, split around 19.4 N and S\n",
    "    out1=[global_average(d1c.sel(lat=slice(-19.4,-90)))]\n",
    "    out1.append(global_average(d1c.sel(lat=slice(19.4,-19.4))))\n",
    "    out1.append(global_average(d1c.sel(lat=slice(90,19.4))))\n",
    "\n",
    "    return out1\n",
    "\n",
    "fx=area_avg(flux)\n",
    "ts1=area_avg(mod3.temp2)\n",
    "ta1=area_avg(mod3.t)"
   ]
  },
  {
   "cell_type": "code",
   "execution_count": 13,
   "metadata": {},
   "outputs": [],
   "source": [
    "# estimate change from first decade to last for each region\n",
    "dflux=np.array(list(map(delta,fx)))\n",
    "dts=np.array(list(map(delta,ts1))).squeeze()\n",
    "dta=np.array(list(map(delta,ta1))).squeeze()\n",
    "ratioTs=dflux/dts;ratioTa=dflux/dta"
   ]
  },
  {
   "cell_type": "markdown",
   "metadata": {},
   "source": [
    "## Figure 5"
   ]
  },
  {
   "cell_type": "code",
   "execution_count": 14,
   "metadata": {},
   "outputs": [
    {
     "data": {
      "image/png": "[encoded data removed]",
      "text/plain": [
       "<matplotlib.figure.Figure at 0x7fec0dc14710>"
      ]
     },
     "metadata": {},
     "output_type": "display_data"
    }
   ],
   "source": [
    "figure(figsize=(7,5))\n",
    "yerr1=np.average(ratioTs,axis=1)-np.percentile(ratioTs,5,axis=1)\n",
    "yerr2=np.percentile(ratioTs,95,axis=1)-np.average(ratioTs,axis=1)\n",
    "errorbar(np.arange(3)+0.07,np.average(ratioTs,axis=1),yerr=[yerr1,yerr2],color='k',fmt='o',\\\n",
    "         markersize=12,label='$\\lambda_r$')\n",
    "\n",
    "yerr1=np.average(ratioTa,axis=1)-np.percentile(ratioTa,5,axis=1)\n",
    "yerr2=np.percentile(ratioTa,95,axis=1)-np.average(ratioTa,axis=1)\n",
    "errorbar(np.arange(3)-0.07,np.average(ratioTa,axis=1),yerr=[yerr1,yerr2],color='0.7',fmt='^',\\\n",
    "         markersize=12,label='$\\Theta_r$')\n",
    "\n",
    "xlabel('latitude',fontsize=16);ylabel('$\\lambda_r$ or $\\Theta_r$ ($W/m^2/K$)',fontsize=14)\n",
    "xticks([0,1,2],'SH,EQ,NH'.split(','))\n",
    "xlim(-0.5,2.5)\n",
    "ylim(-3,0)\n",
    "legend(loc=4,fontsize=14)\n",
    "colorplotLeft(gca())\n",
    "\n",
    "### plot individual high and low lambda models\n",
    "# ind=np.where(lambda1 < np.percentile(lambda1,5))[0]\n",
    "# for ii in range(3):\n",
    "#     plot(np.zeros(len(ind))+ii+0.15,ratioTs[ii,ind],'k+')\n",
    "# ind=np.where(lambda1 > np.percentile(lambda1,95))[0]\n",
    "# for ii in range(3):\n",
    "#     plot(np.zeros(len(ind))+ii+0.15,ratioTs[ii,ind],'r+')\n",
    "\n",
    "# savefig('fig5.eps')\n",
    "# savefig('fig5')"
   ]
  },
  {
   "cell_type": "markdown",
   "metadata": {},
   "source": [
    "look at temperature response in each region"
   ]
  },
  {
   "cell_type": "code",
   "execution_count": 15,
   "metadata": {},
   "outputs": [
    {
     "data": {
      "image/png": "[encoded data removed]",
      "text/plain": [
       "<matplotlib.figure.Figure at 0x7fec0da93978>"
      ]
     },
     "metadata": {},
     "output_type": "display_data"
    }
   ],
   "source": [
    "figure(figsize=(7,5))\n",
    "yerr1=np.average(dts,axis=1)-np.percentile(dts,5,axis=1)\n",
    "yerr2=np.percentile(dts,95,axis=1)-np.average(dts,axis=1)\n",
    "errorbar(np.arange(3)+0.07,np.average(dts,axis=1),yerr=[yerr1,yerr2],color='k',fmt='o',\\\n",
    "         markersize=12,label='$\\Delta T_S$')\n",
    "\n",
    "yerr1=np.average(dta,axis=1)-np.percentile(dta,5,axis=1)\n",
    "yerr2=np.percentile(dta,95,axis=1)-np.average(dta,axis=1)\n",
    "errorbar(np.arange(3)-0.07,np.average(dta,axis=1),yerr=[yerr1,yerr2],color='0.7',fmt='^',\\\n",
    "         markersize=12,label='$\\Delta T_A$')\n",
    "\n",
    "xlabel('latitude',fontsize=16);ylabel('local $\\Delta T_S$ or $\\Delta T_A$',fontsize=14)\n",
    "xticks([0,1,2],'SH,EQ,NH'.split(','))\n",
    "xlim(-0.5,2.5)\n",
    "\n",
    "ind=np.where(lambda1 < np.percentile(lambda1,5))[0]\n",
    "for ii in range(3):\n",
    "    plot(np.zeros(len(ind))+ii+0.15,dts[ii,ind],'k+')\n",
    "ind=np.where(lambda1 > np.percentile(lambda1,95))[0]\n",
    "for ii in range(3):\n",
    "    plot(np.zeros(len(ind))+ii+0.15,dts[ii,ind],'r+')\n",
    "\n",
    "legend(loc=4,fontsize=14)\n",
    "colorplotLeft(gca())"
   ]
  }
 ],
 "metadata": {
  "kernelspec": {
   "display_name": "Python 3",
   "language": "python",
   "name": "python3"
  },
  "language_info": {
   "codemirror_mode": {
    "name": "ipython",
    "version": 3
   },
   "file_extension": ".py",
   "mimetype": "text/x-python",
   "name": "python",
   "nbconvert_exporter": "python",
   "pygments_lexer": "ipython3",
   "version": "3.6.4"
  }
 },
 "nbformat": 4,
 "nbformat_minor": 1
}
