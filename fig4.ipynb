{
 "cells": [
  {
   "cell_type": "markdown",
   "metadata": {},
   "source": [
    "# Figure 4"
   ]
  },
  {
   "cell_type": "code",
   "execution_count": 1,
   "metadata": {},
   "outputs": [],
   "source": [
    "import numpy as np\n",
    "import os, glob\n",
    "import datetime\n",
    "from netCDF4 import Dataset\n",
    "from collections import namedtuple\n",
    "from scipy import stats\n",
    "\n",
    "from matplotlib.pyplot import *\n",
    "import matplotlib.pyplot as plt"
   ]
  },
  {
   "cell_type": "code",
   "execution_count": 2,
   "metadata": {},
   "outputs": [],
   "source": [
    "def colorplotLeft(ax):\n",
    "    \n",
    "    almost_black = '#262626' # tweek from Thorsten\n",
    "    \n",
    "    for spx in ['top','right']:\n",
    "            ax.spines[spx].set_visible(False)\n",
    "\n",
    "    # Only show ticks on the left and bottom spines\n",
    "    ax.yaxis.set_ticks_position('left')\n",
    "    ax.xaxis.set_ticks_position('bottom')\n",
    "    \n",
    "    # set axis positions\n",
    "#     ax.yaxis.set_label_position(pspines[0]) \n",
    "#     ax.xaxis.set_label_position(pspines[1]) \n",
    "    \n",
    "    for spx in ['bottom','left']:\n",
    "        ax.spines[spx].set_linewidth(0.5)\n",
    "        ax.spines[spx].set_color(almost_black)\n",
    "    \n",
    "    for ticks in ax.xaxis.get_ticklines() + ax.yaxis.get_ticklines():\n",
    "        ticks.set_color(almost_black)"
   ]
  },
  {
   "cell_type": "code",
   "execution_count": 3,
   "metadata": {},
   "outputs": [],
   "source": [
    "def anomaly(data):\n",
    "\t\"\"\"calculate anomaly of a 1D array (assumes no missing time slots)\"\"\"\n",
    "\td1=np.ma.copy(data)\n",
    "\tind=np.ma.array(range(len(data))) % 12\n",
    "\tfor num in range(12):\n",
    "\t\td1[num == ind]=data[num == ind]-np.ma.average(data[num == ind])\n",
    "\treturn d1"
   ]
  },
  {
   "cell_type": "code",
   "execution_count": 4,
   "metadata": {},
   "outputs": [],
   "source": [
    "## ceres data; from fig. 3 file\n",
    "## based on regression up to 7/17\n",
    "ceresR=-0.17\n",
    "ceresRta=-0.46"
   ]
  },
  {
   "cell_type": "markdown",
   "metadata": {},
   "source": [
    "## read in models & calculate correlation"
   ]
  },
  {
   "cell_type": "code",
   "execution_count": 5,
   "metadata": {},
   "outputs": [],
   "source": [
    "modelRun = namedtuple('modelRun', ('t', 'ts','t_trop','ts_trop','flux'))\n",
    "modelType = namedtuple('modelType', ('piControl','abrupt4xCO2'))\n",
    "\n",
    "def readFile(modx,runx):\n",
    "\t\"\"\"read global and tropical avg. nc file\"\"\"\n",
    "\tfni=Dataset('cmip5/{0}.{1}.nc'.format(mn,runx))\n",
    "\tovar=[]\n",
    "\tfor ii in ['flux','ta','tas','t_trop','tas_trop']:\n",
    "\t\tovar.append(anomaly(fni[ii][:].squeeze()))\n",
    "\tmodout=modelRun(flux=ovar[0],t=ovar[1],ts=ovar[2],t_trop=ovar[3],ts_trop=ovar[4])\n",
    "\treturn modout\n",
    "\n",
    "# get names of models\n",
    "fn=glob.glob('cmip5/*.{}.nc'.format('piControl'))\n",
    "models=[ii.split('/')[1] for ii in fn]\n",
    "models=[ii.split('.')[0] for ii in models]\n",
    "models.sort()"
   ]
  },
  {
   "cell_type": "code",
   "execution_count": 6,
   "metadata": {},
   "outputs": [
    {
     "name": "stdout",
     "output_type": "stream",
     "text": [
      "ACCESS1-0 ACCESS1-3 BCC-CSM1-1 BCC-CSM1-1-M CCSM4 CNRM-CM5 CNRM-CM5-2 CSIRO-Mk3-6-0 "
     ]
    },
    {
     "name": "stderr",
     "output_type": "stream",
     "text": [
      "/usr/local/anaconda/lib/python3.6/site-packages/scipy/stats/_stats_mstats_common.py:107: RuntimeWarning: invalid value encountered in double_scalars\n",
      "  slope = r_num / ssxm\n",
      "/usr/local/anaconda/lib/python3.6/site-packages/scipy/stats/_stats_mstats_common.py:119: RuntimeWarning: divide by zero encountered in double_scalars\n",
      "  sterrest = np.sqrt((1 - r**2) * ssym / ssxm / df)\n"
     ]
    },
    {
     "name": "stdout",
     "output_type": "stream",
     "text": [
      "CanESM2 FGOALS-g2 FGOALS-s2 GFDL-CM3 GFDL-ESM2G GFDL-ESM2M GISS-E2-H GISS-E2-R HadGEM2-ES INMCM4 IPSL-CM5A-LR IPSL-CM5A-MR IPSL-CM5B-LR MIROC-ESM MIROC5 MPI-ESM-LR MPI-ESM-MR MPI-ESM-P MRI-CGCM3 NorESM1-M "
     ]
    }
   ],
   "source": [
    "skip=17*12;length=17\n",
    "\n",
    "feedbacks={};modelOutput={}\n",
    "for mn in models:\n",
    "\tpiC=readFile(mn,'piControl')\t\n",
    "\tabrupt=readFile(mn,'abrupt4xCO2')\n",
    "\tfeedbacks[mn]=modelType(piControl=piC,abrupt4xCO2=abrupt)\n",
    "\tprint('{} '.format(mn),end=\"\")\n",
    "\tsys.stdout.flush()\n",
    "\n",
    "\t## analyze the run\n",
    "\tm1all=[];abrupt=[]\n",
    "\tfor latr,varn in zip(['90','30'],['ts','t']):\n",
    "\t\t\n",
    "\t\tmod1=feedbacks[mn].piControl # control run\n",
    "\t\ts=len(mod1.t)\n",
    "\n",
    "\t\ttvar=varn\n",
    "\t\tif latr == '30': tvar = tvar+'_trop'\n",
    "\t\tcommandStr='tg=mod1.{}'.format(tvar)\n",
    "\t\texec(commandStr)\n",
    "\n",
    "\t\t# flux is the same for all calcs\n",
    "\t\tflux=mod1.flux\n",
    "\t\t\n",
    "\t\tm1=[]\n",
    "\t\tfor ii in range(0,s-length*12,skip):\n",
    "\t\t\tindx=range(ii,ii+length*12)\n",
    "\t\t\tfitx=stats.linregress(anomaly(tg[indx]),anomaly(flux[indx]))\n",
    "\t\t\tm1.append(fitx[2])\n",
    "\n",
    "\t\tm1all.append(m1)\n",
    "\n",
    "\tmodelOutput[mn]=modelType(piControl=m1all,abrupt4xCO2=[0])"
   ]
  },
  {
   "cell_type": "markdown",
   "metadata": {},
   "source": [
    "## figure 4 plot"
   ]
  },
  {
   "cell_type": "code",
   "execution_count": 10,
   "metadata": {},
   "outputs": [],
   "source": [
    "if False:\n",
    "    figure(figsize=(9,7))\n",
    "    plt.subplots_adjust(bottom=0.2)\n",
    "    values1=np.array([np.average(modelOutput[ii].piControl[0]) for ii in models])\n",
    "    values2=np.array([np.max(modelOutput[ii].piControl[0]) for ii in models])\n",
    "    values3=np.array([np.min(modelOutput[ii].piControl[0]) for ii in models])\n",
    "    errorbar(np.arange(len(values1)),values1,yerr=[values1-values3,values2-values1],fmt='o',color='k')\n",
    "    ylim(np.average(values1)-0.4,np.average(values1)+0.4)#;grid()\n",
    "    ylabel('correlation coefficient',fontsize=16)\n",
    "    axhline(ceresR,color='r',ls='dashed') # from Fig. 1 file\n",
    "    axhline(np.average(values1),color='b',ls='dashed')\n",
    "    gca().set_xticks(range(len(models)));\n",
    "    gca().set_xticklabels(models,rotation='90');\n",
    "    xlim(-0.5,len(models)-0.5)\n",
    "    colorplotLeft(gca())\n",
    "    # savefig('fig4.eps')"
   ]
  },
  {
   "cell_type": "code",
   "execution_count": 14,
   "metadata": {},
   "outputs": [],
   "source": [
    "if False:\n",
    "    figure(figsize=(7,9))\n",
    "    plt.subplots_adjust(left=0.2)\n",
    "    values1=np.array([np.average(modelOutput[ii].piControl[0]) for ii in models])\n",
    "    values2=np.array([np.max(modelOutput[ii].piControl[0]) for ii in models])\n",
    "    values3=np.array([np.min(modelOutput[ii].piControl[0]) for ii in models])\n",
    "    errorbar(values1,np.arange(len(values1)),xerr=[values1-values3,values2-values1],fmt='o',color='k')\n",
    "    xlim(np.average(values1)-0.4,np.average(values1)+0.4)#;grid()\n",
    "    xlabel('correlation coefficient',fontsize=16)\n",
    "    axvline(ceresR,color='r',ls='dashed') # from Fig. 1 file\n",
    "    axvline(np.average(values1),color='b',ls='dashed')\n",
    "    gca().set_yticks(range(len(models)));\n",
    "    gca().set_yticklabels(models);\n",
    "    ylim(-0.5,len(models)-0.5)\n",
    "    colorplotLeft(gca())\n",
    "    # savefig('fig4.eps')"
   ]
  },
  {
   "cell_type": "code",
   "execution_count": 12,
   "metadata": {},
   "outputs": [
    {
     "data": {
      "image/png": "[encoded data removed]",
      "text/plain": [
       "<matplotlib.figure.Figure at 0x7f261595eb38>"
      ]
     },
     "metadata": {},
     "output_type": "display_data"
    }
   ],
   "source": [
    "figure(figsize=(7,9))\n",
    "plt.subplots_adjust(left=0.2)\n",
    "\n",
    "if models[0][0] == 'A':\n",
    "    models=models[::-1]\n",
    "\n",
    "values1=np.array([np.average(modelOutput[ii].piControl[1]) for ii in models])\n",
    "values2=np.array([np.max(modelOutput[ii].piControl[1]) for ii in models])\n",
    "values3=np.array([np.min(modelOutput[ii].piControl[1]) for ii in models])\n",
    "errorbar(values1,np.arange(len(values1))+0.25,xerr=[values1-values3,values2-values1],fmt='o',color='r',label='$R$ vs. $T_A$')\n",
    "\n",
    "values1=np.array([np.average(modelOutput[ii].piControl[0]) for ii in models])\n",
    "values2=np.array([np.max(modelOutput[ii].piControl[0]) for ii in models])\n",
    "values3=np.array([np.min(modelOutput[ii].piControl[0]) for ii in models])\n",
    "errorbar(values1,np.arange(len(values1))-0.25,xerr=[values1-values3,values2-values1],fmt='o',color='k',label='$R$ vs. $T_S$')\n",
    "\n",
    "xlim(-0.7,0.3)\n",
    "xlabel('correlation coefficient',fontsize=16)\n",
    "axvline(ceresR,color='k',ls='dashed') # from Fig. 1 file\n",
    "axvline(ceresRta,color='r',ls='dashed') # from Fig. 1 file\n",
    "\n",
    "# axvline(np.average(values1),color='b',ls='dashed')\n",
    "gca().set_yticks(range(len(models)));\n",
    "gca().set_yticklabels(models);\n",
    "ylim(-0.5,len(models)-0.5)\n",
    "colorplotLeft(gca())\n",
    "legend(fontsize=12)\n",
    "# savefig('fig4.eps')\n",
    "savefig('fig4')"
   ]
  },
  {
   "cell_type": "code",
   "execution_count": null,
   "metadata": {},
   "outputs": [],
   "source": []
  }
 ],
 "metadata": {
  "kernelspec": {
   "display_name": "Python 3",
   "language": "python",
   "name": "python3"
  },
  "language_info": {
   "codemirror_mode": {
    "name": "ipython",
    "version": 3
   },
   "file_extension": ".py",
   "mimetype": "text/x-python",
   "name": "python",
   "nbconvert_exporter": "python",
   "pygments_lexer": "ipython3",
   "version": "3.6.4"
  }
 },
 "nbformat": 4,
 "nbformat_minor": 1
}
